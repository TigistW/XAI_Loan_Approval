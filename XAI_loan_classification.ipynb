{
  "cells": [
    {
      "cell_type": "markdown",
      "metadata": {
        "id": "view-in-github",
        "colab_type": "text"
      },
      "source": [
        "<a href=\"https://colab.research.google.com/github/TigistW/XAI_Loan_Approval/blob/main/XAI_loan_classification.ipynb\" target=\"_parent\"><img src=\"https://colab.research.google.com/assets/colab-badge.svg\" alt=\"Open In Colab\"/></a>"
      ]
    },
    {
      "cell_type": "markdown",
      "source": [
        "#Tigist Wondimneh...GSR/5506/17\n",
        "#Nahom Senay....GSR/4848/17\n",
        "#Tsion Bizuayehu...GSR/9238/17"
      ],
      "metadata": {
        "id": "8fvjy0_ml_hT"
      }
    },
    {
      "cell_type": "markdown",
      "metadata": {
        "id": "59Cx7Qiynsoh"
      },
      "source": [
        "# **Problem Definition**\n",
        "\n",
        "#### **1. Business/Research Problem**\n",
        "The goal is to predict **Loan Approval** based on various socio-economic, health, and demographic indicators.\n",
        "\n",
        "This problem is a **classification task**, where we aim to predict a binary target variable.\n",
        "\n",
        "---\n",
        "\n",
        "#### **2. Objective**\n",
        "Build a machine learning model to:\n",
        "1. **Accurately classify approval** based on the provided features.\n",
        "2. **Identify important factors** influencing loan approval.\n",
        "\n",
        "---\n",
        "\n",
        "#### **3. Challenges**\n",
        "- **Missing Data**: Three features have missing values, requiring imputation or handling.\n",
        "- **Feature Scaling**: Numerical features vary greatly in scale and require normalization.\n",
        "- **Feature Selection**: Some features may not contribute significantly to the target variable.\n",
        "- **Imbalanced Data**: If the dataset is skewed toward certain ranges of life expectancy, it may affect model performance.\n",
        "\n",
        "---\n",
        "\n",
        "#### **4. Success Criteria**\n",
        "To evaluate the success of the model in a classification problem, we can use the following metrics:\n",
        "\n",
        "1. **Accuracy**: The proportion of correctly predicted instances to the total instances.\n",
        "2. **Precision**: The proportion of positive predictions that are actually correct.\n",
        "3. **Recall (Sensitivity)**: The proportion of actual positives that are correctly identified.\n",
        "4. **F1 Score**: The harmonic mean of precision and recall, providing a balance between the two.\n",
        "5. **Confusion Matrix**: Displays the counts of true positive, true negative, false positive, and false negative predictions.\n",
        "\n",
        "A successful model should:\n",
        "- Maximize accuracy, precision, recall, and F1 score.\n",
        "- Display a favorable confusion matrix, with few false positives and false negatives.\n"
      ]
    },
    {
      "cell_type": "markdown",
      "metadata": {
        "id": "xHJIC0-dd7Nr"
      },
      "source": [
        "# **Data Collection**\n",
        "\n",
        "#### **Data Source**\n",
        "The dataset provided is a tabular dataset containing socio-economic, and demographic features for various ages.\n",
        "\n",
        "---\n",
        "\n",
        "#### **Relevance of Data**\n",
        "The dataset is relevant to the problem domain as it includes features that directly or indirectly influence loan approval, such as:\n",
        "\n",
        "---\n",
        "\n",
        "#### **Data Quality**\n",
        "The dataset requires:\n",
        "1. **Handling Missing Values**:\n",
        "   - Some features have missing values, which need to be imputed.\n",
        "2. **Scaling**:\n",
        "   - Numerical features vary significantly in scale, requiring normalization.\n"
      ]
    },
    {
      "cell_type": "markdown",
      "metadata": {
        "id": "due_74GgrQF3"
      },
      "source": [
        "# **Reading Dataset**"
      ]
    },
    {
      "cell_type": "code",
      "execution_count": 1,
      "metadata": {
        "id": "vz1KXlm3cmTH"
      },
      "outputs": [],
      "source": [
        "import pandas as pd\n",
        "import numpy as np\n",
        "from sklearn.model_selection import train_test_split\n",
        "from sklearn.preprocessing import LabelEncoder\n",
        "import matplotlib.pyplot as plt\n",
        "import seaborn as sns\n",
        "import matplotlib.pyplot as plt"
      ]
    },
    {
      "cell_type": "code",
      "execution_count": 2,
      "metadata": {
        "id": "NwyoBYe5d6X3"
      },
      "outputs": [],
      "source": [
        "# Load the CSV file\n",
        "train_csv_file_path = \"/content/cs-training.csv\"\n",
        "test_csv_file_path = \"/content/cs-test.csv\"\n",
        "data = pd.read_csv(train_csv_file_path)\n",
        "test = pd.read_csv(test_csv_file_path)"
      ]
    },
    {
      "cell_type": "code",
      "execution_count": 3,
      "metadata": {
        "id": "PrNY2c09edqZ",
        "colab": {
          "base_uri": "https://localhost:8080/"
        },
        "outputId": "9dd81f07-c976-499e-8e70-a62e2420edcc"
      },
      "outputs": [
        {
          "output_type": "stream",
          "name": "stdout",
          "text": [
            "   Unnamed: 0  SeriousDlqin2yrs  RevolvingUtilizationOfUnsecuredLines  age  \\\n",
            "0           1                 1                              0.766127   45   \n",
            "1           2                 0                              0.957151   40   \n",
            "2           3                 0                              0.658180   38   \n",
            "3           4                 0                              0.233810   30   \n",
            "4           5                 0                              0.907239   49   \n",
            "\n",
            "   NumberOfTime30-59DaysPastDueNotWorse  DebtRatio  MonthlyIncome  \\\n",
            "0                                     2   0.802982         9120.0   \n",
            "1                                     0   0.121876         2600.0   \n",
            "2                                     1   0.085113         3042.0   \n",
            "3                                     0   0.036050         3300.0   \n",
            "4                                     1   0.024926        63588.0   \n",
            "\n",
            "   NumberOfOpenCreditLinesAndLoans  NumberOfTimes90DaysLate  \\\n",
            "0                               13                        0   \n",
            "1                                4                        0   \n",
            "2                                2                        1   \n",
            "3                                5                        0   \n",
            "4                                7                        0   \n",
            "\n",
            "   NumberRealEstateLoansOrLines  NumberOfTime60-89DaysPastDueNotWorse  \\\n",
            "0                             6                                     0   \n",
            "1                             0                                     0   \n",
            "2                             0                                     0   \n",
            "3                             0                                     0   \n",
            "4                             1                                     0   \n",
            "\n",
            "   NumberOfDependents  \n",
            "0                 2.0  \n",
            "1                 1.0  \n",
            "2                 0.0  \n",
            "3                 0.0  \n",
            "4                 0.0  \n",
            "   Unnamed: 0  SeriousDlqin2yrs  RevolvingUtilizationOfUnsecuredLines  age  \\\n",
            "0           1               NaN                              0.885519   43   \n",
            "1           2               NaN                              0.463295   57   \n",
            "2           3               NaN                              0.043275   59   \n",
            "3           4               NaN                              0.280308   38   \n",
            "4           5               NaN                              1.000000   27   \n",
            "\n",
            "   NumberOfTime30-59DaysPastDueNotWorse  DebtRatio  MonthlyIncome  \\\n",
            "0                                     0   0.177513         5700.0   \n",
            "1                                     0   0.527237         9141.0   \n",
            "2                                     0   0.687648         5083.0   \n",
            "3                                     1   0.925961         3200.0   \n",
            "4                                     0   0.019917         3865.0   \n",
            "\n",
            "   NumberOfOpenCreditLinesAndLoans  NumberOfTimes90DaysLate  \\\n",
            "0                                4                        0   \n",
            "1                               15                        0   \n",
            "2                               12                        0   \n",
            "3                                7                        0   \n",
            "4                                4                        0   \n",
            "\n",
            "   NumberRealEstateLoansOrLines  NumberOfTime60-89DaysPastDueNotWorse  \\\n",
            "0                             0                                     0   \n",
            "1                             4                                     0   \n",
            "2                             1                                     0   \n",
            "3                             2                                     0   \n",
            "4                             0                                     0   \n",
            "\n",
            "   NumberOfDependents  \n",
            "0                 0.0  \n",
            "1                 2.0  \n",
            "2                 2.0  \n",
            "3                 0.0  \n",
            "4                 1.0  \n"
          ]
        }
      ],
      "source": [
        "# Inspect the dataset\n",
        "print(data.head())\n",
        "print(test.head())\n"
      ]
    },
    {
      "cell_type": "markdown",
      "metadata": {
        "id": "AO_Fjc8Tryi9"
      },
      "source": [
        "# **Data Exploration and Preparation**"
      ]
    },
    {
      "cell_type": "markdown",
      "metadata": {
        "id": "KV-ryuQMr6rU"
      },
      "source": [
        "### **Exploratory Data Analysis (EDA)**"
      ]
    },
    {
      "cell_type": "code",
      "execution_count": 4,
      "metadata": {
        "id": "Ns_w8M7cenGx",
        "colab": {
          "base_uri": "https://localhost:8080/"
        },
        "outputId": "f9f2a447-5235-4af2-d1a6-3e8fe6e76ad8"
      },
      "outputs": [
        {
          "output_type": "stream",
          "name": "stdout",
          "text": [
            "\n",
            "Dataset Info:\n",
            "<class 'pandas.core.frame.DataFrame'>\n",
            "RangeIndex: 150000 entries, 0 to 149999\n",
            "Data columns (total 12 columns):\n",
            " #   Column                                Non-Null Count   Dtype  \n",
            "---  ------                                --------------   -----  \n",
            " 0   Unnamed: 0                            150000 non-null  int64  \n",
            " 1   SeriousDlqin2yrs                      150000 non-null  int64  \n",
            " 2   RevolvingUtilizationOfUnsecuredLines  150000 non-null  float64\n",
            " 3   age                                   150000 non-null  int64  \n",
            " 4   NumberOfTime30-59DaysPastDueNotWorse  150000 non-null  int64  \n",
            " 5   DebtRatio                             150000 non-null  float64\n",
            " 6   MonthlyIncome                         120269 non-null  float64\n",
            " 7   NumberOfOpenCreditLinesAndLoans       150000 non-null  int64  \n",
            " 8   NumberOfTimes90DaysLate               150000 non-null  int64  \n",
            " 9   NumberRealEstateLoansOrLines          150000 non-null  int64  \n",
            " 10  NumberOfTime60-89DaysPastDueNotWorse  150000 non-null  int64  \n",
            " 11  NumberOfDependents                    146076 non-null  float64\n",
            "dtypes: float64(4), int64(8)\n",
            "memory usage: 13.7 MB\n",
            "None\n",
            "\\Test Info:\n",
            "<class 'pandas.core.frame.DataFrame'>\n",
            "RangeIndex: 101503 entries, 0 to 101502\n",
            "Data columns (total 12 columns):\n",
            " #   Column                                Non-Null Count   Dtype  \n",
            "---  ------                                --------------   -----  \n",
            " 0   Unnamed: 0                            101503 non-null  int64  \n",
            " 1   SeriousDlqin2yrs                      0 non-null       float64\n",
            " 2   RevolvingUtilizationOfUnsecuredLines  101503 non-null  float64\n",
            " 3   age                                   101503 non-null  int64  \n",
            " 4   NumberOfTime30-59DaysPastDueNotWorse  101503 non-null  int64  \n",
            " 5   DebtRatio                             101503 non-null  float64\n",
            " 6   MonthlyIncome                         81400 non-null   float64\n",
            " 7   NumberOfOpenCreditLinesAndLoans       101503 non-null  int64  \n",
            " 8   NumberOfTimes90DaysLate               101503 non-null  int64  \n",
            " 9   NumberRealEstateLoansOrLines          101503 non-null  int64  \n",
            " 10  NumberOfTime60-89DaysPastDueNotWorse  101503 non-null  int64  \n",
            " 11  NumberOfDependents                    98877 non-null   float64\n",
            "dtypes: float64(5), int64(7)\n",
            "memory usage: 9.3 MB\n",
            "None\n"
          ]
        }
      ],
      "source": [
        "print(\"\\nDataset Info:\")\n",
        "print(data.info())\n",
        "\n",
        "print(\"\\Test Info:\")\n",
        "print(test.info())"
      ]
    },
    {
      "cell_type": "code",
      "execution_count": 5,
      "metadata": {
        "id": "dABa-CPcsPAW",
        "colab": {
          "base_uri": "https://localhost:8080/"
        },
        "outputId": "7754daaa-727f-4916-f264-ae9c579e5c61"
      },
      "outputs": [
        {
          "output_type": "stream",
          "name": "stdout",
          "text": [
            "          Unnamed: 0  SeriousDlqin2yrs  RevolvingUtilizationOfUnsecuredLines  \\\n",
            "count  150000.000000     150000.000000                         150000.000000   \n",
            "mean    75000.500000          0.066840                              6.048438   \n",
            "std     43301.414527          0.249746                            249.755371   \n",
            "min         1.000000          0.000000                              0.000000   \n",
            "25%     37500.750000          0.000000                              0.029867   \n",
            "50%     75000.500000          0.000000                              0.154181   \n",
            "75%    112500.250000          0.000000                              0.559046   \n",
            "max    150000.000000          1.000000                          50708.000000   \n",
            "\n",
            "                 age  NumberOfTime30-59DaysPastDueNotWorse      DebtRatio  \\\n",
            "count  150000.000000                         150000.000000  150000.000000   \n",
            "mean       52.295207                              0.421033     353.005076   \n",
            "std        14.771866                              4.192781    2037.818523   \n",
            "min         0.000000                              0.000000       0.000000   \n",
            "25%        41.000000                              0.000000       0.175074   \n",
            "50%        52.000000                              0.000000       0.366508   \n",
            "75%        63.000000                              0.000000       0.868254   \n",
            "max       109.000000                             98.000000  329664.000000   \n",
            "\n",
            "       MonthlyIncome  NumberOfOpenCreditLinesAndLoans  \\\n",
            "count   1.202690e+05                    150000.000000   \n",
            "mean    6.670221e+03                         8.452760   \n",
            "std     1.438467e+04                         5.145951   \n",
            "min     0.000000e+00                         0.000000   \n",
            "25%     3.400000e+03                         5.000000   \n",
            "50%     5.400000e+03                         8.000000   \n",
            "75%     8.249000e+03                        11.000000   \n",
            "max     3.008750e+06                        58.000000   \n",
            "\n",
            "       NumberOfTimes90DaysLate  NumberRealEstateLoansOrLines  \\\n",
            "count            150000.000000                 150000.000000   \n",
            "mean                  0.265973                      1.018240   \n",
            "std                   4.169304                      1.129771   \n",
            "min                   0.000000                      0.000000   \n",
            "25%                   0.000000                      0.000000   \n",
            "50%                   0.000000                      1.000000   \n",
            "75%                   0.000000                      2.000000   \n",
            "max                  98.000000                     54.000000   \n",
            "\n",
            "       NumberOfTime60-89DaysPastDueNotWorse  NumberOfDependents  \n",
            "count                         150000.000000       146076.000000  \n",
            "mean                               0.240387            0.757222  \n",
            "std                                4.155179            1.115086  \n",
            "min                                0.000000            0.000000  \n",
            "25%                                0.000000            0.000000  \n",
            "50%                                0.000000            0.000000  \n",
            "75%                                0.000000            1.000000  \n",
            "max                               98.000000           20.000000  \n",
            "          Unnamed: 0  SeriousDlqin2yrs  RevolvingUtilizationOfUnsecuredLines  \\\n",
            "count  101503.000000               0.0                         101503.000000   \n",
            "mean    50752.000000               NaN                              5.310000   \n",
            "std     29301.536524               NaN                            196.156039   \n",
            "min         1.000000               NaN                              0.000000   \n",
            "25%     25376.500000               NaN                              0.030131   \n",
            "50%     50752.000000               NaN                              0.152586   \n",
            "75%     76127.500000               NaN                              0.564225   \n",
            "max    101503.000000               NaN                          21821.000000   \n",
            "\n",
            "                 age  NumberOfTime30-59DaysPastDueNotWorse      DebtRatio  \\\n",
            "count  101503.000000                         101503.000000  101503.000000   \n",
            "mean       52.405436                              0.453770     344.475020   \n",
            "std        14.779756                              4.538487    1632.595231   \n",
            "min        21.000000                              0.000000       0.000000   \n",
            "25%        41.000000                              0.000000       0.173423   \n",
            "50%        52.000000                              0.000000       0.364260   \n",
            "75%        63.000000                              0.000000       0.851619   \n",
            "max       104.000000                             98.000000  268326.000000   \n",
            "\n",
            "       MonthlyIncome  NumberOfOpenCreditLinesAndLoans  \\\n",
            "count   8.140000e+04                    101503.000000   \n",
            "mean    6.855036e+03                         8.453514   \n",
            "std     3.650860e+04                         5.144100   \n",
            "min     0.000000e+00                         0.000000   \n",
            "25%     3.408000e+03                         5.000000   \n",
            "50%     5.400000e+03                         8.000000   \n",
            "75%     8.200000e+03                        11.000000   \n",
            "max     7.727000e+06                        85.000000   \n",
            "\n",
            "       NumberOfTimes90DaysLate  NumberRealEstateLoansOrLines  \\\n",
            "count            101503.000000                 101503.000000   \n",
            "mean                  0.296691                      1.013074   \n",
            "std                   4.515859                      1.110253   \n",
            "min                   0.000000                      0.000000   \n",
            "25%                   0.000000                      0.000000   \n",
            "50%                   0.000000                      1.000000   \n",
            "75%                   0.000000                      2.000000   \n",
            "max                  98.000000                     37.000000   \n",
            "\n",
            "       NumberOfTime60-89DaysPastDueNotWorse  NumberOfDependents  \n",
            "count                         101503.000000        98877.000000  \n",
            "mean                               0.270317            0.769046  \n",
            "std                                4.503578            1.136778  \n",
            "min                                0.000000            0.000000  \n",
            "25%                                0.000000            0.000000  \n",
            "50%                                0.000000            0.000000  \n",
            "75%                                0.000000            1.000000  \n",
            "max                               98.000000           43.000000  \n"
          ]
        }
      ],
      "source": [
        "# Statistical summary\n",
        "print(data.describe())\n",
        "print(test.describe())"
      ]
    },
    {
      "cell_type": "code",
      "execution_count": 6,
      "metadata": {
        "id": "vjx4CuultmQn",
        "colab": {
          "base_uri": "https://localhost:8080/",
          "height": 333
        },
        "outputId": "0235fb5e-7505-45e5-9e71-5a3a35a371db"
      },
      "outputs": [
        {
          "output_type": "display_data",
          "data": {
            "text/plain": [
              "<Figure size 400x300 with 1 Axes>"
            ],
            "image/png": "[encoded data removed]"
          },
          "metadata": {}
        }
      ],
      "source": [
        "# Target variable distribution\n",
        "import seaborn as sns\n",
        "import matplotlib.pyplot as plt\n",
        "\n",
        "plt.figure(figsize=(4,3))\n",
        "sns.histplot(data['SeriousDlqin2yrs'], kde=True, color='blue', bins=30)\n",
        "plt.title(\"Distribution of Target varibae\")\n",
        "plt.xlabel(\"SeriousDlqin2yrs\")\n",
        "plt.ylabel(\"Frequency\")\n",
        "plt.show()\n"
      ]
    },
    {
      "cell_type": "markdown",
      "metadata": {
        "id": "4XRcYAmPuBZa"
      },
      "source": [
        "### **Data Cleaning**\n"
      ]
    },
    {
      "cell_type": "code",
      "execution_count": 7,
      "metadata": {
        "id": "VCgogzbruhEK",
        "colab": {
          "base_uri": "https://localhost:8080/"
        },
        "outputId": "9a4c7ae6-4c91-4316-bec5-f3a515d0401d"
      },
      "outputs": [
        {
          "output_type": "stream",
          "name": "stdout",
          "text": [
            "Missing Values Before Handling:\n",
            "Unnamed: 0                                  0\n",
            "SeriousDlqin2yrs                            0\n",
            "RevolvingUtilizationOfUnsecuredLines        0\n",
            "age                                         0\n",
            "NumberOfTime30-59DaysPastDueNotWorse        0\n",
            "DebtRatio                                   0\n",
            "MonthlyIncome                           29731\n",
            "NumberOfOpenCreditLinesAndLoans             0\n",
            "NumberOfTimes90DaysLate                     0\n",
            "NumberRealEstateLoansOrLines                0\n",
            "NumberOfTime60-89DaysPastDueNotWorse        0\n",
            "NumberOfDependents                       3924\n",
            "dtype: int64\n",
            "Unnamed: 0                                   0\n",
            "SeriousDlqin2yrs                        101503\n",
            "RevolvingUtilizationOfUnsecuredLines         0\n",
            "age                                          0\n",
            "NumberOfTime30-59DaysPastDueNotWorse         0\n",
            "DebtRatio                                    0\n",
            "MonthlyIncome                            20103\n",
            "NumberOfOpenCreditLinesAndLoans              0\n",
            "NumberOfTimes90DaysLate                      0\n",
            "NumberRealEstateLoansOrLines                 0\n",
            "NumberOfTime60-89DaysPastDueNotWorse         0\n",
            "NumberOfDependents                        2626\n",
            "dtype: int64\n"
          ]
        }
      ],
      "source": [
        "# See missing values in the data\n",
        "print(\"Missing Values Before Handling:\")\n",
        "print(data.isnull().sum())\n",
        "print(test.isnull().sum())"
      ]
    },
    {
      "cell_type": "code",
      "execution_count": 8,
      "metadata": {
        "id": "LRGsDs3MvFAf",
        "colab": {
          "base_uri": "https://localhost:8080/"
        },
        "outputId": "d1e42dff-a15b-4502-eb1d-616080442250"
      },
      "outputs": [
        {
          "output_type": "stream",
          "name": "stdout",
          "text": [
            "Index([], dtype='object')\n"
          ]
        }
      ],
      "source": [
        "# Handling numerical values with missing values\n",
        "numeric_columns = data.select_dtypes(include=['float64', 'int64']).columns\n",
        "data[numeric_columns] = data[numeric_columns].fillna(data[numeric_columns].mean())\n",
        "\n",
        "# Handling categorical values with missing values\n",
        "categorical_columns = data.select_dtypes(include=['object']).columns\n",
        "print(categorical_columns)\n",
        "for col in categorical_columns:\n",
        "    data[col] = data[col].fillna(data[col].mode()[0])"
      ]
    },
    {
      "cell_type": "code",
      "execution_count": 9,
      "metadata": {
        "id": "pGT3YM-gsYC-",
        "colab": {
          "base_uri": "https://localhost:8080/",
          "height": 244
        },
        "outputId": "30b83a88-63a4-4e95-e51a-f53a08be7c77"
      },
      "outputs": [
        {
          "output_type": "execute_result",
          "data": {
            "text/plain": [
              "   Unnamed: 0  SeriousDlqin2yrs  RevolvingUtilizationOfUnsecuredLines  age  \\\n",
              "0           1                 1                              0.766127   45   \n",
              "1           2                 0                              0.957151   40   \n",
              "2           3                 0                              0.658180   38   \n",
              "3           4                 0                              0.233810   30   \n",
              "4           5                 0                              0.907239   49   \n",
              "\n",
              "   NumberOfTime30-59DaysPastDueNotWorse  DebtRatio  MonthlyIncome  \\\n",
              "0                                     2   0.802982         9120.0   \n",
              "1                                     0   0.121876         2600.0   \n",
              "2                                     1   0.085113         3042.0   \n",
              "3                                     0   0.036050         3300.0   \n",
              "4                                     1   0.024926        63588.0   \n",
              "\n",
              "   NumberOfOpenCreditLinesAndLoans  NumberOfTimes90DaysLate  \\\n",
              "0                               13                        0   \n",
              "1                                4                        0   \n",
              "2                                2                        1   \n",
              "3                                5                        0   \n",
              "4                                7                        0   \n",
              "\n",
              "   NumberRealEstateLoansOrLines  NumberOfTime60-89DaysPastDueNotWorse  \\\n",
              "0                             6                                     0   \n",
              "1                             0                                     0   \n",
              "2                             0                                     0   \n",
              "3                             0                                     0   \n",
              "4                             1                                     0   \n",
              "\n",
              "   NumberOfDependents  \n",
              "0                 2.0  \n",
              "1                 1.0  \n",
              "2                 0.0  \n",
              "3                 0.0  \n",
              "4                 0.0  "
            ],
            "text/html": [
              "\n",
              "  <div id=\"df-8721e821-c382-4dcc-ba2d-43038bb9b43d\" class=\"colab-df-container\">\n",
              "    <div>\n",
              "<style scoped>\n",
              "    .dataframe tbody tr th:only-of-type {\n",
              "        vertical-align: middle;\n",
              "    }\n",
              "\n",
              "    .dataframe tbody tr th {\n",
              "        vertical-align: top;\n",
              "    }\n",
              "\n",
              "    .dataframe thead th {\n",
              "        text-align: right;\n",
              "    }\n",
              "</style>\n",
              "<table border=\"1\" class=\"dataframe\">\n",
              "  <thead>\n",
              "    <tr style=\"text-align: right;\">\n",
              "      <th></th>\n",
              "      <th>Unnamed: 0</th>\n",
              "      <th>SeriousDlqin2yrs</th>\n",
              "      <th>RevolvingUtilizationOfUnsecuredLines</th>\n",
              "      <th>age</th>\n",
              "      <th>NumberOfTime30-59DaysPastDueNotWorse</th>\n",
              "      <th>DebtRatio</th>\n",
              "      <th>MonthlyIncome</th>\n",
              "      <th>NumberOfOpenCreditLinesAndLoans</th>\n",
              "      <th>NumberOfTimes90DaysLate</th>\n",
              "      <th>NumberRealEstateLoansOrLines</th>\n",
              "      <th>NumberOfTime60-89DaysPastDueNotWorse</th>\n",
              "      <th>NumberOfDependents</th>\n",
              "    </tr>\n",
              "  </thead>\n",
              "  <tbody>\n",
              "    <tr>\n",
              "      <th>0</th>\n",
              "      <td>1</td>\n",
              "      <td>1</td>\n",
              "      <td>0.766127</td>\n",
              "      <td>45</td>\n",
              "      <td>2</td>\n",
              "      <td>0.802982</td>\n",
              "      <td>9120.0</td>\n",
              "      <td>13</td>\n",
              "      <td>0</td>\n",
              "      <td>6</td>\n",
              "      <td>0</td>\n",
              "      <td>2.0</td>\n",
              "    </tr>\n",
              "    <tr>\n",
              "      <th>1</th>\n",
              "      <td>2</td>\n",
              "      <td>0</td>\n",
              "      <td>0.957151</td>\n",
              "      <td>40</td>\n",
              "      <td>0</td>\n",
              "      <td>0.121876</td>\n",
              "      <td>2600.0</td>\n",
              "      <td>4</td>\n",
              "      <td>0</td>\n",
              "      <td>0</td>\n",
              "      <td>0</td>\n",
              "      <td>1.0</td>\n",
              "    </tr>\n",
              "    <tr>\n",
              "      <th>2</th>\n",
              "      <td>3</td>\n",
              "      <td>0</td>\n",
              "      <td>0.658180</td>\n",
              "      <td>38</td>\n",
              "      <td>1</td>\n",
              "      <td>0.085113</td>\n",
              "      <td>3042.0</td>\n",
              "      <td>2</td>\n",
              "      <td>1</td>\n",
              "      <td>0</td>\n",
              "      <td>0</td>\n",
              "      <td>0.0</td>\n",
              "    </tr>\n",
              "    <tr>\n",
              "      <th>3</th>\n",
              "      <td>4</td>\n",
              "      <td>0</td>\n",
              "      <td>0.233810</td>\n",
              "      <td>30</td>\n",
              "      <td>0</td>\n",
              "      <td>0.036050</td>\n",
              "      <td>3300.0</td>\n",
              "      <td>5</td>\n",
              "      <td>0</td>\n",
              "      <td>0</td>\n",
              "      <td>0</td>\n",
              "      <td>0.0</td>\n",
              "    </tr>\n",
              "    <tr>\n",
              "      <th>4</th>\n",
              "      <td>5</td>\n",
              "      <td>0</td>\n",
              "      <td>0.907239</td>\n",
              "      <td>49</td>\n",
              "      <td>1</td>\n",
              "      <td>0.024926</td>\n",
              "      <td>63588.0</td>\n",
              "      <td>7</td>\n",
              "      <td>0</td>\n",
              "      <td>1</td>\n",
              "      <td>0</td>\n",
              "      <td>0.0</td>\n",
              "    </tr>\n",
              "  </tbody>\n",
              "</table>\n",
              "</div>\n",
              "    <div class=\"colab-df-buttons\">\n",
              "\n",
              "  <div class=\"colab-df-container\">\n",
              "    <button class=\"colab-df-convert\" onclick=\"convertToInteractive('df-8721e821-c382-4dcc-ba2d-43038bb9b43d')\"\n",
              "            title=\"Convert this dataframe to an interactive table.\"\n",
              "            style=\"display:none;\">\n",
              "\n",
              "  <svg xmlns=\"http://www.w3.org/2000/svg\" height=\"24px\" viewBox=\"0 -960 960 960\">\n",
              "    <path d=\"M120-120v-720h720v720H120Zm60-500h600v-160H180v160Zm220 220h160v-160H400v160Zm0 220h160v-160H400v160ZM180-400h160v-160H180v160Zm440 0h160v-160H620v160ZM180-180h160v-160H180v160Zm440 0h160v-160H620v160Z\"/>\n",
              "  </svg>\n",
              "    </button>\n",
              "\n",
              "  <style>\n",
              "    .colab-df-container {\n",
              "      display:flex;\n",
              "      gap: 12px;\n",
              "    }\n",
              "\n",
              "    .colab-df-convert {\n",
              "      background-color: #E8F0FE;\n",
              "      border: none;\n",
              "      border-radius: 50%;\n",
              "      cursor: pointer;\n",
              "      display: none;\n",
              "      fill: #1967D2;\n",
              "      height: 32px;\n",
              "      padding: 0 0 0 0;\n",
              "      width: 32px;\n",
              "    }\n",
              "\n",
              "    .colab-df-convert:hover {\n",
              "      background-color: #E2EBFA;\n",
              "      box-shadow: 0px 1px 2px rgba(60, 64, 67, 0.3), 0px 1px 3px 1px rgba(60, 64, 67, 0.15);\n",
              "      fill: #174EA6;\n",
              "    }\n",
              "\n",
              "    .colab-df-buttons div {\n",
              "      margin-bottom: 4px;\n",
              "    }\n",
              "\n",
              "    [theme=dark] .colab-df-convert {\n",
              "      background-color: #3B4455;\n",
              "      fill: #D2E3FC;\n",
              "    }\n",
              "\n",
              "    [theme=dark] .colab-df-convert:hover {\n",
              "      background-color: #434B5C;\n",
              "      box-shadow: 0px 1px 3px 1px rgba(0, 0, 0, 0.15);\n",
              "      filter: drop-shadow(0px 1px 2px rgba(0, 0, 0, 0.3));\n",
              "      fill: #FFFFFF;\n",
              "    }\n",
              "  </style>\n",
              "\n",
              "    <script>\n",
              "      const buttonEl =\n",
              "        document.querySelector('#df-8721e821-c382-4dcc-ba2d-43038bb9b43d button.colab-df-convert');\n",
              "      buttonEl.style.display =\n",
              "        google.colab.kernel.accessAllowed ? 'block' : 'none';\n",
              "\n",
              "      async function convertToInteractive(key) {\n",
              "        const element = document.querySelector('#df-8721e821-c382-4dcc-ba2d-43038bb9b43d');\n",
              "        const dataTable =\n",
              "          await google.colab.kernel.invokeFunction('convertToInteractive',\n",
              "                                                    [key], {});\n",
              "        if (!dataTable) return;\n",
              "\n",
              "        const docLinkHtml = 'Like what you see? Visit the ' +\n",
              "          '<a target=\"_blank\" href=https://colab.research.google.com/notebooks/data_table.ipynb>data table notebook</a>'\n",
              "          + ' to learn more about interactive tables.';\n",
              "        element.innerHTML = '';\n",
              "        dataTable['output_type'] = 'display_data';\n",
              "        await google.colab.output.renderOutput(dataTable, element);\n",
              "        const docLink = document.createElement('div');\n",
              "        docLink.innerHTML = docLinkHtml;\n",
              "        element.appendChild(docLink);\n",
              "      }\n",
              "    </script>\n",
              "  </div>\n",
              "\n",
              "\n",
              "<div id=\"df-5b6d1479-78f6-4167-a81a-2b95a57cf237\">\n",
              "  <button class=\"colab-df-quickchart\" onclick=\"quickchart('df-5b6d1479-78f6-4167-a81a-2b95a57cf237')\"\n",
              "            title=\"Suggest charts\"\n",
              "            style=\"display:none;\">\n",
              "\n",
              "<svg xmlns=\"http://www.w3.org/2000/svg\" height=\"24px\"viewBox=\"0 0 24 24\"\n",
              "     width=\"24px\">\n",
              "    <g>\n",
              "        <path d=\"M19 3H5c-1.1 0-2 .9-2 2v14c0 1.1.9 2 2 2h14c1.1 0 2-.9 2-2V5c0-1.1-.9-2-2-2zM9 17H7v-7h2v7zm4 0h-2V7h2v10zm4 0h-2v-4h2v4z\"/>\n",
              "    </g>\n",
              "</svg>\n",
              "  </button>\n",
              "\n",
              "<style>\n",
              "  .colab-df-quickchart {\n",
              "      --bg-color: #E8F0FE;\n",
              "      --fill-color: #1967D2;\n",
              "      --hover-bg-color: #E2EBFA;\n",
              "      --hover-fill-color: #174EA6;\n",
              "      --disabled-fill-color: #AAA;\n",
              "      --disabled-bg-color: #DDD;\n",
              "  }\n",
              "\n",
              "  [theme=dark] .colab-df-quickchart {\n",
              "      --bg-color: #3B4455;\n",
              "      --fill-color: #D2E3FC;\n",
              "      --hover-bg-color: #434B5C;\n",
              "      --hover-fill-color: #FFFFFF;\n",
              "      --disabled-bg-color: #3B4455;\n",
              "      --disabled-fill-color: #666;\n",
              "  }\n",
              "\n",
              "  .colab-df-quickchart {\n",
              "    background-color: var(--bg-color);\n",
              "    border: none;\n",
              "    border-radius: 50%;\n",
              "    cursor: pointer;\n",
              "    display: none;\n",
              "    fill: var(--fill-color);\n",
              "    height: 32px;\n",
              "    padding: 0;\n",
              "    width: 32px;\n",
              "  }\n",
              "\n",
              "  .colab-df-quickchart:hover {\n",
              "    background-color: var(--hover-bg-color);\n",
              "    box-shadow: 0 1px 2px rgba(60, 64, 67, 0.3), 0 1px 3px 1px rgba(60, 64, 67, 0.15);\n",
              "    fill: var(--button-hover-fill-color);\n",
              "  }\n",
              "\n",
              "  .colab-df-quickchart-complete:disabled,\n",
              "  .colab-df-quickchart-complete:disabled:hover {\n",
              "    background-color: var(--disabled-bg-color);\n",
              "    fill: var(--disabled-fill-color);\n",
              "    box-shadow: none;\n",
              "  }\n",
              "\n",
              "  .colab-df-spinner {\n",
              "    border: 2px solid var(--fill-color);\n",
              "    border-color: transparent;\n",
              "    border-bottom-color: var(--fill-color);\n",
              "    animation:\n",
              "      spin 1s steps(1) infinite;\n",
              "  }\n",
              "\n",
              "  @keyframes spin {\n",
              "    0% {\n",
              "      border-color: transparent;\n",
              "      border-bottom-color: var(--fill-color);\n",
              "      border-left-color: var(--fill-color);\n",
              "    }\n",
              "    20% {\n",
              "      border-color: transparent;\n",
              "      border-left-color: var(--fill-color);\n",
              "      border-top-color: var(--fill-color);\n",
              "    }\n",
              "    30% {\n",
              "      border-color: transparent;\n",
              "      border-left-color: var(--fill-color);\n",
              "      border-top-color: var(--fill-color);\n",
              "      border-right-color: var(--fill-color);\n",
              "    }\n",
              "    40% {\n",
              "      border-color: transparent;\n",
              "      border-right-color: var(--fill-color);\n",
              "      border-top-color: var(--fill-color);\n",
              "    }\n",
              "    60% {\n",
              "      border-color: transparent;\n",
              "      border-right-color: var(--fill-color);\n",
              "    }\n",
              "    80% {\n",
              "      border-color: transparent;\n",
              "      border-right-color: var(--fill-color);\n",
              "      border-bottom-color: var(--fill-color);\n",
              "    }\n",
              "    90% {\n",
              "      border-color: transparent;\n",
              "      border-bottom-color: var(--fill-color);\n",
              "    }\n",
              "  }\n",
              "</style>\n",
              "\n",
              "  <script>\n",
              "    async function quickchart(key) {\n",
              "      const quickchartButtonEl =\n",
              "        document.querySelector('#' + key + ' button');\n",
              "      quickchartButtonEl.disabled = true;  // To prevent multiple clicks.\n",
              "      quickchartButtonEl.classList.add('colab-df-spinner');\n",
              "      try {\n",
              "        const charts = await google.colab.kernel.invokeFunction(\n",
              "            'suggestCharts', [key], {});\n",
              "      } catch (error) {\n",
              "        console.error('Error during call to suggestCharts:', error);\n",
              "      }\n",
              "      quickchartButtonEl.classList.remove('colab-df-spinner');\n",
              "      quickchartButtonEl.classList.add('colab-df-quickchart-complete');\n",
              "    }\n",
              "    (() => {\n",
              "      let quickchartButtonEl =\n",
              "        document.querySelector('#df-5b6d1479-78f6-4167-a81a-2b95a57cf237 button');\n",
              "      quickchartButtonEl.style.display =\n",
              "        google.colab.kernel.accessAllowed ? 'block' : 'none';\n",
              "    })();\n",
              "  </script>\n",
              "</div>\n",
              "\n",
              "    </div>\n",
              "  </div>\n"
            ],
            "application/vnd.google.colaboratory.intrinsic+json": {
              "type": "dataframe",
              "variable_name": "data"
            }
          },
          "metadata": {},
          "execution_count": 9
        }
      ],
      "source": [
        "data.head()"
      ]
    },
    {
      "cell_type": "code",
      "execution_count": 10,
      "metadata": {
        "id": "Rr5RuMIy8pwD",
        "colab": {
          "base_uri": "https://localhost:8080/"
        },
        "outputId": "250c44d8-c7b3-469a-fc2a-7fda95b56a7a"
      },
      "outputs": [
        {
          "output_type": "stream",
          "name": "stdout",
          "text": [
            "Index([], dtype='object')\n"
          ]
        }
      ],
      "source": [
        "# Handling numerical values with missing values\n",
        "numeric_columns = test.select_dtypes(include=['float64', 'int64']).columns\n",
        "test[numeric_columns] = test[numeric_columns].fillna(test[numeric_columns].mean())\n",
        "\n",
        "# Handling categorical values with missing values\n",
        "categorical_columns = test.select_dtypes(include=['object']).columns\n",
        "print(categorical_columns)\n",
        "for col in categorical_columns:\n",
        "    test[col] = test[col].fillna(test[col].mode()[0])"
      ]
    },
    {
      "cell_type": "code",
      "execution_count": 11,
      "metadata": {
        "id": "rO38uepC8xTN",
        "colab": {
          "base_uri": "https://localhost:8080/",
          "height": 244
        },
        "outputId": "77fff552-688e-4680-b77c-3f483d4e7ca8"
      },
      "outputs": [
        {
          "output_type": "execute_result",
          "data": {
            "text/plain": [
              "   Unnamed: 0  SeriousDlqin2yrs  RevolvingUtilizationOfUnsecuredLines  age  \\\n",
              "0           1               NaN                              0.885519   43   \n",
              "1           2               NaN                              0.463295   57   \n",
              "2           3               NaN                              0.043275   59   \n",
              "3           4               NaN                              0.280308   38   \n",
              "4           5               NaN                              1.000000   27   \n",
              "\n",
              "   NumberOfTime30-59DaysPastDueNotWorse  DebtRatio  MonthlyIncome  \\\n",
              "0                                     0   0.177513         5700.0   \n",
              "1                                     0   0.527237         9141.0   \n",
              "2                                     0   0.687648         5083.0   \n",
              "3                                     1   0.925961         3200.0   \n",
              "4                                     0   0.019917         3865.0   \n",
              "\n",
              "   NumberOfOpenCreditLinesAndLoans  NumberOfTimes90DaysLate  \\\n",
              "0                                4                        0   \n",
              "1                               15                        0   \n",
              "2                               12                        0   \n",
              "3                                7                        0   \n",
              "4                                4                        0   \n",
              "\n",
              "   NumberRealEstateLoansOrLines  NumberOfTime60-89DaysPastDueNotWorse  \\\n",
              "0                             0                                     0   \n",
              "1                             4                                     0   \n",
              "2                             1                                     0   \n",
              "3                             2                                     0   \n",
              "4                             0                                     0   \n",
              "\n",
              "   NumberOfDependents  \n",
              "0                 0.0  \n",
              "1                 2.0  \n",
              "2                 2.0  \n",
              "3                 0.0  \n",
              "4                 1.0  "
            ],
            "text/html": [
              "\n",
              "  <div id=\"df-66cf886a-6363-4578-a79c-f24386e260e8\" class=\"colab-df-container\">\n",
              "    <div>\n",
              "<style scoped>\n",
              "    .dataframe tbody tr th:only-of-type {\n",
              "        vertical-align: middle;\n",
              "    }\n",
              "\n",
              "    .dataframe tbody tr th {\n",
              "        vertical-align: top;\n",
              "    }\n",
              "\n",
              "    .dataframe thead th {\n",
              "        text-align: right;\n",
              "    }\n",
              "</style>\n",
              "<table border=\"1\" class=\"dataframe\">\n",
              "  <thead>\n",
              "    <tr style=\"text-align: right;\">\n",
              "      <th></th>\n",
              "      <th>Unnamed: 0</th>\n",
              "      <th>SeriousDlqin2yrs</th>\n",
              "      <th>RevolvingUtilizationOfUnsecuredLines</th>\n",
              "      <th>age</th>\n",
              "      <th>NumberOfTime30-59DaysPastDueNotWorse</th>\n",
              "      <th>DebtRatio</th>\n",
              "      <th>MonthlyIncome</th>\n",
              "      <th>NumberOfOpenCreditLinesAndLoans</th>\n",
              "      <th>NumberOfTimes90DaysLate</th>\n",
              "      <th>NumberRealEstateLoansOrLines</th>\n",
              "      <th>NumberOfTime60-89DaysPastDueNotWorse</th>\n",
              "      <th>NumberOfDependents</th>\n",
              "    </tr>\n",
              "  </thead>\n",
              "  <tbody>\n",
              "    <tr>\n",
              "      <th>0</th>\n",
              "      <td>1</td>\n",
              "      <td>NaN</td>\n",
              "      <td>0.885519</td>\n",
              "      <td>43</td>\n",
              "      <td>0</td>\n",
              "      <td>0.177513</td>\n",
              "      <td>5700.0</td>\n",
              "      <td>4</td>\n",
              "      <td>0</td>\n",
              "      <td>0</td>\n",
              "      <td>0</td>\n",
              "      <td>0.0</td>\n",
              "    </tr>\n",
              "    <tr>\n",
              "      <th>1</th>\n",
              "      <td>2</td>\n",
              "      <td>NaN</td>\n",
              "      <td>0.463295</td>\n",
              "      <td>57</td>\n",
              "      <td>0</td>\n",
              "      <td>0.527237</td>\n",
              "      <td>9141.0</td>\n",
              "      <td>15</td>\n",
              "      <td>0</td>\n",
              "      <td>4</td>\n",
              "      <td>0</td>\n",
              "      <td>2.0</td>\n",
              "    </tr>\n",
              "    <tr>\n",
              "      <th>2</th>\n",
              "      <td>3</td>\n",
              "      <td>NaN</td>\n",
              "      <td>0.043275</td>\n",
              "      <td>59</td>\n",
              "      <td>0</td>\n",
              "      <td>0.687648</td>\n",
              "      <td>5083.0</td>\n",
              "      <td>12</td>\n",
              "      <td>0</td>\n",
              "      <td>1</td>\n",
              "      <td>0</td>\n",
              "      <td>2.0</td>\n",
              "    </tr>\n",
              "    <tr>\n",
              "      <th>3</th>\n",
              "      <td>4</td>\n",
              "      <td>NaN</td>\n",
              "      <td>0.280308</td>\n",
              "      <td>38</td>\n",
              "      <td>1</td>\n",
              "      <td>0.925961</td>\n",
              "      <td>3200.0</td>\n",
              "      <td>7</td>\n",
              "      <td>0</td>\n",
              "      <td>2</td>\n",
              "      <td>0</td>\n",
              "      <td>0.0</td>\n",
              "    </tr>\n",
              "    <tr>\n",
              "      <th>4</th>\n",
              "      <td>5</td>\n",
              "      <td>NaN</td>\n",
              "      <td>1.000000</td>\n",
              "      <td>27</td>\n",
              "      <td>0</td>\n",
              "      <td>0.019917</td>\n",
              "      <td>3865.0</td>\n",
              "      <td>4</td>\n",
              "      <td>0</td>\n",
              "      <td>0</td>\n",
              "      <td>0</td>\n",
              "      <td>1.0</td>\n",
              "    </tr>\n",
              "  </tbody>\n",
              "</table>\n",
              "</div>\n",
              "    <div class=\"colab-df-buttons\">\n",
              "\n",
              "  <div class=\"colab-df-container\">\n",
              "    <button class=\"colab-df-convert\" onclick=\"convertToInteractive('df-66cf886a-6363-4578-a79c-f24386e260e8')\"\n",
              "            title=\"Convert this dataframe to an interactive table.\"\n",
              "            style=\"display:none;\">\n",
              "\n",
              "  <svg xmlns=\"http://www.w3.org/2000/svg\" height=\"24px\" viewBox=\"0 -960 960 960\">\n",
              "    <path d=\"M120-120v-720h720v720H120Zm60-500h600v-160H180v160Zm220 220h160v-160H400v160Zm0 220h160v-160H400v160ZM180-400h160v-160H180v160Zm440 0h160v-160H620v160ZM180-180h160v-160H180v160Zm440 0h160v-160H620v160Z\"/>\n",
              "  </svg>\n",
              "    </button>\n",
              "\n",
              "  <style>\n",
              "    .colab-df-container {\n",
              "      display:flex;\n",
              "      gap: 12px;\n",
              "    }\n",
              "\n",
              "    .colab-df-convert {\n",
              "      background-color: #E8F0FE;\n",
              "      border: none;\n",
              "      border-radius: 50%;\n",
              "      cursor: pointer;\n",
              "      display: none;\n",
              "      fill: #1967D2;\n",
              "      height: 32px;\n",
              "      padding: 0 0 0 0;\n",
              "      width: 32px;\n",
              "    }\n",
              "\n",
              "    .colab-df-convert:hover {\n",
              "      background-color: #E2EBFA;\n",
              "      box-shadow: 0px 1px 2px rgba(60, 64, 67, 0.3), 0px 1px 3px 1px rgba(60, 64, 67, 0.15);\n",
              "      fill: #174EA6;\n",
              "    }\n",
              "\n",
              "    .colab-df-buttons div {\n",
              "      margin-bottom: 4px;\n",
              "    }\n",
              "\n",
              "    [theme=dark] .colab-df-convert {\n",
              "      background-color: #3B4455;\n",
              "      fill: #D2E3FC;\n",
              "    }\n",
              "\n",
              "    [theme=dark] .colab-df-convert:hover {\n",
              "      background-color: #434B5C;\n",
              "      box-shadow: 0px 1px 3px 1px rgba(0, 0, 0, 0.15);\n",
              "      filter: drop-shadow(0px 1px 2px rgba(0, 0, 0, 0.3));\n",
              "      fill: #FFFFFF;\n",
              "    }\n",
              "  </style>\n",
              "\n",
              "    <script>\n",
              "      const buttonEl =\n",
              "        document.querySelector('#df-66cf886a-6363-4578-a79c-f24386e260e8 button.colab-df-convert');\n",
              "      buttonEl.style.display =\n",
              "        google.colab.kernel.accessAllowed ? 'block' : 'none';\n",
              "\n",
              "      async function convertToInteractive(key) {\n",
              "        const element = document.querySelector('#df-66cf886a-6363-4578-a79c-f24386e260e8');\n",
              "        const dataTable =\n",
              "          await google.colab.kernel.invokeFunction('convertToInteractive',\n",
              "                                                    [key], {});\n",
              "        if (!dataTable) return;\n",
              "\n",
              "        const docLinkHtml = 'Like what you see? Visit the ' +\n",
              "          '<a target=\"_blank\" href=https://colab.research.google.com/notebooks/data_table.ipynb>data table notebook</a>'\n",
              "          + ' to learn more about interactive tables.';\n",
              "        element.innerHTML = '';\n",
              "        dataTable['output_type'] = 'display_data';\n",
              "        await google.colab.output.renderOutput(dataTable, element);\n",
              "        const docLink = document.createElement('div');\n",
              "        docLink.innerHTML = docLinkHtml;\n",
              "        element.appendChild(docLink);\n",
              "      }\n",
              "    </script>\n",
              "  </div>\n",
              "\n",
              "\n",
              "<div id=\"df-7570bcbb-2db2-4c04-8c81-b791321427a6\">\n",
              "  <button class=\"colab-df-quickchart\" onclick=\"quickchart('df-7570bcbb-2db2-4c04-8c81-b791321427a6')\"\n",
              "            title=\"Suggest charts\"\n",
              "            style=\"display:none;\">\n",
              "\n",
              "<svg xmlns=\"http://www.w3.org/2000/svg\" height=\"24px\"viewBox=\"0 0 24 24\"\n",
              "     width=\"24px\">\n",
              "    <g>\n",
              "        <path d=\"M19 3H5c-1.1 0-2 .9-2 2v14c0 1.1.9 2 2 2h14c1.1 0 2-.9 2-2V5c0-1.1-.9-2-2-2zM9 17H7v-7h2v7zm4 0h-2V7h2v10zm4 0h-2v-4h2v4z\"/>\n",
              "    </g>\n",
              "</svg>\n",
              "  </button>\n",
              "\n",
              "<style>\n",
              "  .colab-df-quickchart {\n",
              "      --bg-color: #E8F0FE;\n",
              "      --fill-color: #1967D2;\n",
              "      --hover-bg-color: #E2EBFA;\n",
              "      --hover-fill-color: #174EA6;\n",
              "      --disabled-fill-color: #AAA;\n",
              "      --disabled-bg-color: #DDD;\n",
              "  }\n",
              "\n",
              "  [theme=dark] .colab-df-quickchart {\n",
              "      --bg-color: #3B4455;\n",
              "      --fill-color: #D2E3FC;\n",
              "      --hover-bg-color: #434B5C;\n",
              "      --hover-fill-color: #FFFFFF;\n",
              "      --disabled-bg-color: #3B4455;\n",
              "      --disabled-fill-color: #666;\n",
              "  }\n",
              "\n",
              "  .colab-df-quickchart {\n",
              "    background-color: var(--bg-color);\n",
              "    border: none;\n",
              "    border-radius: 50%;\n",
              "    cursor: pointer;\n",
              "    display: none;\n",
              "    fill: var(--fill-color);\n",
              "    height: 32px;\n",
              "    padding: 0;\n",
              "    width: 32px;\n",
              "  }\n",
              "\n",
              "  .colab-df-quickchart:hover {\n",
              "    background-color: var(--hover-bg-color);\n",
              "    box-shadow: 0 1px 2px rgba(60, 64, 67, 0.3), 0 1px 3px 1px rgba(60, 64, 67, 0.15);\n",
              "    fill: var(--button-hover-fill-color);\n",
              "  }\n",
              "\n",
              "  .colab-df-quickchart-complete:disabled,\n",
              "  .colab-df-quickchart-complete:disabled:hover {\n",
              "    background-color: var(--disabled-bg-color);\n",
              "    fill: var(--disabled-fill-color);\n",
              "    box-shadow: none;\n",
              "  }\n",
              "\n",
              "  .colab-df-spinner {\n",
              "    border: 2px solid var(--fill-color);\n",
              "    border-color: transparent;\n",
              "    border-bottom-color: var(--fill-color);\n",
              "    animation:\n",
              "      spin 1s steps(1) infinite;\n",
              "  }\n",
              "\n",
              "  @keyframes spin {\n",
              "    0% {\n",
              "      border-color: transparent;\n",
              "      border-bottom-color: var(--fill-color);\n",
              "      border-left-color: var(--fill-color);\n",
              "    }\n",
              "    20% {\n",
              "      border-color: transparent;\n",
              "      border-left-color: var(--fill-color);\n",
              "      border-top-color: var(--fill-color);\n",
              "    }\n",
              "    30% {\n",
              "      border-color: transparent;\n",
              "      border-left-color: var(--fill-color);\n",
              "      border-top-color: var(--fill-color);\n",
              "      border-right-color: var(--fill-color);\n",
              "    }\n",
              "    40% {\n",
              "      border-color: transparent;\n",
              "      border-right-color: var(--fill-color);\n",
              "      border-top-color: var(--fill-color);\n",
              "    }\n",
              "    60% {\n",
              "      border-color: transparent;\n",
              "      border-right-color: var(--fill-color);\n",
              "    }\n",
              "    80% {\n",
              "      border-color: transparent;\n",
              "      border-right-color: var(--fill-color);\n",
              "      border-bottom-color: var(--fill-color);\n",
              "    }\n",
              "    90% {\n",
              "      border-color: transparent;\n",
              "      border-bottom-color: var(--fill-color);\n",
              "    }\n",
              "  }\n",
              "</style>\n",
              "\n",
              "  <script>\n",
              "    async function quickchart(key) {\n",
              "      const quickchartButtonEl =\n",
              "        document.querySelector('#' + key + ' button');\n",
              "      quickchartButtonEl.disabled = true;  // To prevent multiple clicks.\n",
              "      quickchartButtonEl.classList.add('colab-df-spinner');\n",
              "      try {\n",
              "        const charts = await google.colab.kernel.invokeFunction(\n",
              "            'suggestCharts', [key], {});\n",
              "      } catch (error) {\n",
              "        console.error('Error during call to suggestCharts:', error);\n",
              "      }\n",
              "      quickchartButtonEl.classList.remove('colab-df-spinner');\n",
              "      quickchartButtonEl.classList.add('colab-df-quickchart-complete');\n",
              "    }\n",
              "    (() => {\n",
              "      let quickchartButtonEl =\n",
              "        document.querySelector('#df-7570bcbb-2db2-4c04-8c81-b791321427a6 button');\n",
              "      quickchartButtonEl.style.display =\n",
              "        google.colab.kernel.accessAllowed ? 'block' : 'none';\n",
              "    })();\n",
              "  </script>\n",
              "</div>\n",
              "\n",
              "    </div>\n",
              "  </div>\n"
            ],
            "application/vnd.google.colaboratory.intrinsic+json": {
              "type": "dataframe",
              "variable_name": "test"
            }
          },
          "metadata": {},
          "execution_count": 11
        }
      ],
      "source": [
        "test.head()"
      ]
    },
    {
      "cell_type": "code",
      "execution_count": 12,
      "metadata": {
        "id": "G89i097mvi6D",
        "colab": {
          "base_uri": "https://localhost:8080/"
        },
        "outputId": "3577fda4-ac99-4c54-d805-bbb835199783"
      },
      "outputs": [
        {
          "output_type": "stream",
          "name": "stdout",
          "text": [
            "Missing Values After Handling:\n",
            "Unnamed: 0                              0\n",
            "SeriousDlqin2yrs                        0\n",
            "RevolvingUtilizationOfUnsecuredLines    0\n",
            "age                                     0\n",
            "NumberOfTime30-59DaysPastDueNotWorse    0\n",
            "DebtRatio                               0\n",
            "MonthlyIncome                           0\n",
            "NumberOfOpenCreditLinesAndLoans         0\n",
            "NumberOfTimes90DaysLate                 0\n",
            "NumberRealEstateLoansOrLines            0\n",
            "NumberOfTime60-89DaysPastDueNotWorse    0\n",
            "NumberOfDependents                      0\n",
            "dtype: int64\n",
            "150000\n"
          ]
        }
      ],
      "source": [
        "# See missing values in the data after handling them\n",
        "print(\"Missing Values After Handling:\")\n",
        "print(data.isnull().sum())\n",
        "print(len(data))"
      ]
    },
    {
      "cell_type": "code",
      "execution_count": 13,
      "metadata": {
        "id": "p12jOKcu8_xX",
        "colab": {
          "base_uri": "https://localhost:8080/"
        },
        "outputId": "9b982e09-3663-41bf-9865-96b88554ce67"
      },
      "outputs": [
        {
          "output_type": "stream",
          "name": "stdout",
          "text": [
            "Missing Values After Handling:\n",
            "Unnamed: 0                                   0\n",
            "SeriousDlqin2yrs                        101503\n",
            "RevolvingUtilizationOfUnsecuredLines         0\n",
            "age                                          0\n",
            "NumberOfTime30-59DaysPastDueNotWorse         0\n",
            "DebtRatio                                    0\n",
            "MonthlyIncome                                0\n",
            "NumberOfOpenCreditLinesAndLoans              0\n",
            "NumberOfTimes90DaysLate                      0\n",
            "NumberRealEstateLoansOrLines                 0\n",
            "NumberOfTime60-89DaysPastDueNotWorse         0\n",
            "NumberOfDependents                           0\n",
            "dtype: int64\n",
            "101503\n"
          ]
        }
      ],
      "source": [
        "# See missing values in the data after handling them\n",
        "print(\"Missing Values After Handling:\")\n",
        "print(test.isnull().sum())\n",
        "print(len(test))"
      ]
    },
    {
      "cell_type": "code",
      "execution_count": 14,
      "metadata": {
        "id": "qwRyHowSsDHG",
        "colab": {
          "base_uri": "https://localhost:8080/",
          "height": 244
        },
        "outputId": "b93eaea1-da63-47fd-dde0-2b110cbc898d"
      },
      "outputs": [
        {
          "output_type": "execute_result",
          "data": {
            "text/plain": [
              "   Unnamed: 0  SeriousDlqin2yrs  RevolvingUtilizationOfUnsecuredLines  age  \\\n",
              "0           1                 1                              0.766127   45   \n",
              "1           2                 0                              0.957151   40   \n",
              "2           3                 0                              0.658180   38   \n",
              "3           4                 0                              0.233810   30   \n",
              "4           5                 0                              0.907239   49   \n",
              "\n",
              "   NumberOfTime30-59DaysPastDueNotWorse  DebtRatio  MonthlyIncome  \\\n",
              "0                                     2   0.802982         9120.0   \n",
              "1                                     0   0.121876         2600.0   \n",
              "2                                     1   0.085113         3042.0   \n",
              "3                                     0   0.036050         3300.0   \n",
              "4                                     1   0.024926        63588.0   \n",
              "\n",
              "   NumberOfOpenCreditLinesAndLoans  NumberOfTimes90DaysLate  \\\n",
              "0                               13                        0   \n",
              "1                                4                        0   \n",
              "2                                2                        1   \n",
              "3                                5                        0   \n",
              "4                                7                        0   \n",
              "\n",
              "   NumberRealEstateLoansOrLines  NumberOfTime60-89DaysPastDueNotWorse  \\\n",
              "0                             6                                     0   \n",
              "1                             0                                     0   \n",
              "2                             0                                     0   \n",
              "3                             0                                     0   \n",
              "4                             1                                     0   \n",
              "\n",
              "   NumberOfDependents  \n",
              "0                 2.0  \n",
              "1                 1.0  \n",
              "2                 0.0  \n",
              "3                 0.0  \n",
              "4                 0.0  "
            ],
            "text/html": [
              "\n",
              "  <div id=\"df-1d21cbcf-655a-4a63-8801-ab37a0778273\" class=\"colab-df-container\">\n",
              "    <div>\n",
              "<style scoped>\n",
              "    .dataframe tbody tr th:only-of-type {\n",
              "        vertical-align: middle;\n",
              "    }\n",
              "\n",
              "    .dataframe tbody tr th {\n",
              "        vertical-align: top;\n",
              "    }\n",
              "\n",
              "    .dataframe thead th {\n",
              "        text-align: right;\n",
              "    }\n",
              "</style>\n",
              "<table border=\"1\" class=\"dataframe\">\n",
              "  <thead>\n",
              "    <tr style=\"text-align: right;\">\n",
              "      <th></th>\n",
              "      <th>Unnamed: 0</th>\n",
              "      <th>SeriousDlqin2yrs</th>\n",
              "      <th>RevolvingUtilizationOfUnsecuredLines</th>\n",
              "      <th>age</th>\n",
              "      <th>NumberOfTime30-59DaysPastDueNotWorse</th>\n",
              "      <th>DebtRatio</th>\n",
              "      <th>MonthlyIncome</th>\n",
              "      <th>NumberOfOpenCreditLinesAndLoans</th>\n",
              "      <th>NumberOfTimes90DaysLate</th>\n",
              "      <th>NumberRealEstateLoansOrLines</th>\n",
              "      <th>NumberOfTime60-89DaysPastDueNotWorse</th>\n",
              "      <th>NumberOfDependents</th>\n",
              "    </tr>\n",
              "  </thead>\n",
              "  <tbody>\n",
              "    <tr>\n",
              "      <th>0</th>\n",
              "      <td>1</td>\n",
              "      <td>1</td>\n",
              "      <td>0.766127</td>\n",
              "      <td>45</td>\n",
              "      <td>2</td>\n",
              "      <td>0.802982</td>\n",
              "      <td>9120.0</td>\n",
              "      <td>13</td>\n",
              "      <td>0</td>\n",
              "      <td>6</td>\n",
              "      <td>0</td>\n",
              "      <td>2.0</td>\n",
              "    </tr>\n",
              "    <tr>\n",
              "      <th>1</th>\n",
              "      <td>2</td>\n",
              "      <td>0</td>\n",
              "      <td>0.957151</td>\n",
              "      <td>40</td>\n",
              "      <td>0</td>\n",
              "      <td>0.121876</td>\n",
              "      <td>2600.0</td>\n",
              "      <td>4</td>\n",
              "      <td>0</td>\n",
              "      <td>0</td>\n",
              "      <td>0</td>\n",
              "      <td>1.0</td>\n",
              "    </tr>\n",
              "    <tr>\n",
              "      <th>2</th>\n",
              "      <td>3</td>\n",
              "      <td>0</td>\n",
              "      <td>0.658180</td>\n",
              "      <td>38</td>\n",
              "      <td>1</td>\n",
              "      <td>0.085113</td>\n",
              "      <td>3042.0</td>\n",
              "      <td>2</td>\n",
              "      <td>1</td>\n",
              "      <td>0</td>\n",
              "      <td>0</td>\n",
              "      <td>0.0</td>\n",
              "    </tr>\n",
              "    <tr>\n",
              "      <th>3</th>\n",
              "      <td>4</td>\n",
              "      <td>0</td>\n",
              "      <td>0.233810</td>\n",
              "      <td>30</td>\n",
              "      <td>0</td>\n",
              "      <td>0.036050</td>\n",
              "      <td>3300.0</td>\n",
              "      <td>5</td>\n",
              "      <td>0</td>\n",
              "      <td>0</td>\n",
              "      <td>0</td>\n",
              "      <td>0.0</td>\n",
              "    </tr>\n",
              "    <tr>\n",
              "      <th>4</th>\n",
              "      <td>5</td>\n",
              "      <td>0</td>\n",
              "      <td>0.907239</td>\n",
              "      <td>49</td>\n",
              "      <td>1</td>\n",
              "      <td>0.024926</td>\n",
              "      <td>63588.0</td>\n",
              "      <td>7</td>\n",
              "      <td>0</td>\n",
              "      <td>1</td>\n",
              "      <td>0</td>\n",
              "      <td>0.0</td>\n",
              "    </tr>\n",
              "  </tbody>\n",
              "</table>\n",
              "</div>\n",
              "    <div class=\"colab-df-buttons\">\n",
              "\n",
              "  <div class=\"colab-df-container\">\n",
              "    <button class=\"colab-df-convert\" onclick=\"convertToInteractive('df-1d21cbcf-655a-4a63-8801-ab37a0778273')\"\n",
              "            title=\"Convert this dataframe to an interactive table.\"\n",
              "            style=\"display:none;\">\n",
              "\n",
              "  <svg xmlns=\"http://www.w3.org/2000/svg\" height=\"24px\" viewBox=\"0 -960 960 960\">\n",
              "    <path d=\"M120-120v-720h720v720H120Zm60-500h600v-160H180v160Zm220 220h160v-160H400v160Zm0 220h160v-160H400v160ZM180-400h160v-160H180v160Zm440 0h160v-160H620v160ZM180-180h160v-160H180v160Zm440 0h160v-160H620v160Z\"/>\n",
              "  </svg>\n",
              "    </button>\n",
              "\n",
              "  <style>\n",
              "    .colab-df-container {\n",
              "      display:flex;\n",
              "      gap: 12px;\n",
              "    }\n",
              "\n",
              "    .colab-df-convert {\n",
              "      background-color: #E8F0FE;\n",
              "      border: none;\n",
              "      border-radius: 50%;\n",
              "      cursor: pointer;\n",
              "      display: none;\n",
              "      fill: #1967D2;\n",
              "      height: 32px;\n",
              "      padding: 0 0 0 0;\n",
              "      width: 32px;\n",
              "    }\n",
              "\n",
              "    .colab-df-convert:hover {\n",
              "      background-color: #E2EBFA;\n",
              "      box-shadow: 0px 1px 2px rgba(60, 64, 67, 0.3), 0px 1px 3px 1px rgba(60, 64, 67, 0.15);\n",
              "      fill: #174EA6;\n",
              "    }\n",
              "\n",
              "    .colab-df-buttons div {\n",
              "      margin-bottom: 4px;\n",
              "    }\n",
              "\n",
              "    [theme=dark] .colab-df-convert {\n",
              "      background-color: #3B4455;\n",
              "      fill: #D2E3FC;\n",
              "    }\n",
              "\n",
              "    [theme=dark] .colab-df-convert:hover {\n",
              "      background-color: #434B5C;\n",
              "      box-shadow: 0px 1px 3px 1px rgba(0, 0, 0, 0.15);\n",
              "      filter: drop-shadow(0px 1px 2px rgba(0, 0, 0, 0.3));\n",
              "      fill: #FFFFFF;\n",
              "    }\n",
              "  </style>\n",
              "\n",
              "    <script>\n",
              "      const buttonEl =\n",
              "        document.querySelector('#df-1d21cbcf-655a-4a63-8801-ab37a0778273 button.colab-df-convert');\n",
              "      buttonEl.style.display =\n",
              "        google.colab.kernel.accessAllowed ? 'block' : 'none';\n",
              "\n",
              "      async function convertToInteractive(key) {\n",
              "        const element = document.querySelector('#df-1d21cbcf-655a-4a63-8801-ab37a0778273');\n",
              "        const dataTable =\n",
              "          await google.colab.kernel.invokeFunction('convertToInteractive',\n",
              "                                                    [key], {});\n",
              "        if (!dataTable) return;\n",
              "\n",
              "        const docLinkHtml = 'Like what you see? Visit the ' +\n",
              "          '<a target=\"_blank\" href=https://colab.research.google.com/notebooks/data_table.ipynb>data table notebook</a>'\n",
              "          + ' to learn more about interactive tables.';\n",
              "        element.innerHTML = '';\n",
              "        dataTable['output_type'] = 'display_data';\n",
              "        await google.colab.output.renderOutput(dataTable, element);\n",
              "        const docLink = document.createElement('div');\n",
              "        docLink.innerHTML = docLinkHtml;\n",
              "        element.appendChild(docLink);\n",
              "      }\n",
              "    </script>\n",
              "  </div>\n",
              "\n",
              "\n",
              "<div id=\"df-304c59df-9432-434f-89f0-851095777f0c\">\n",
              "  <button class=\"colab-df-quickchart\" onclick=\"quickchart('df-304c59df-9432-434f-89f0-851095777f0c')\"\n",
              "            title=\"Suggest charts\"\n",
              "            style=\"display:none;\">\n",
              "\n",
              "<svg xmlns=\"http://www.w3.org/2000/svg\" height=\"24px\"viewBox=\"0 0 24 24\"\n",
              "     width=\"24px\">\n",
              "    <g>\n",
              "        <path d=\"M19 3H5c-1.1 0-2 .9-2 2v14c0 1.1.9 2 2 2h14c1.1 0 2-.9 2-2V5c0-1.1-.9-2-2-2zM9 17H7v-7h2v7zm4 0h-2V7h2v10zm4 0h-2v-4h2v4z\"/>\n",
              "    </g>\n",
              "</svg>\n",
              "  </button>\n",
              "\n",
              "<style>\n",
              "  .colab-df-quickchart {\n",
              "      --bg-color: #E8F0FE;\n",
              "      --fill-color: #1967D2;\n",
              "      --hover-bg-color: #E2EBFA;\n",
              "      --hover-fill-color: #174EA6;\n",
              "      --disabled-fill-color: #AAA;\n",
              "      --disabled-bg-color: #DDD;\n",
              "  }\n",
              "\n",
              "  [theme=dark] .colab-df-quickchart {\n",
              "      --bg-color: #3B4455;\n",
              "      --fill-color: #D2E3FC;\n",
              "      --hover-bg-color: #434B5C;\n",
              "      --hover-fill-color: #FFFFFF;\n",
              "      --disabled-bg-color: #3B4455;\n",
              "      --disabled-fill-color: #666;\n",
              "  }\n",
              "\n",
              "  .colab-df-quickchart {\n",
              "    background-color: var(--bg-color);\n",
              "    border: none;\n",
              "    border-radius: 50%;\n",
              "    cursor: pointer;\n",
              "    display: none;\n",
              "    fill: var(--fill-color);\n",
              "    height: 32px;\n",
              "    padding: 0;\n",
              "    width: 32px;\n",
              "  }\n",
              "\n",
              "  .colab-df-quickchart:hover {\n",
              "    background-color: var(--hover-bg-color);\n",
              "    box-shadow: 0 1px 2px rgba(60, 64, 67, 0.3), 0 1px 3px 1px rgba(60, 64, 67, 0.15);\n",
              "    fill: var(--button-hover-fill-color);\n",
              "  }\n",
              "\n",
              "  .colab-df-quickchart-complete:disabled,\n",
              "  .colab-df-quickchart-complete:disabled:hover {\n",
              "    background-color: var(--disabled-bg-color);\n",
              "    fill: var(--disabled-fill-color);\n",
              "    box-shadow: none;\n",
              "  }\n",
              "\n",
              "  .colab-df-spinner {\n",
              "    border: 2px solid var(--fill-color);\n",
              "    border-color: transparent;\n",
              "    border-bottom-color: var(--fill-color);\n",
              "    animation:\n",
              "      spin 1s steps(1) infinite;\n",
              "  }\n",
              "\n",
              "  @keyframes spin {\n",
              "    0% {\n",
              "      border-color: transparent;\n",
              "      border-bottom-color: var(--fill-color);\n",
              "      border-left-color: var(--fill-color);\n",
              "    }\n",
              "    20% {\n",
              "      border-color: transparent;\n",
              "      border-left-color: var(--fill-color);\n",
              "      border-top-color: var(--fill-color);\n",
              "    }\n",
              "    30% {\n",
              "      border-color: transparent;\n",
              "      border-left-color: var(--fill-color);\n",
              "      border-top-color: var(--fill-color);\n",
              "      border-right-color: var(--fill-color);\n",
              "    }\n",
              "    40% {\n",
              "      border-color: transparent;\n",
              "      border-right-color: var(--fill-color);\n",
              "      border-top-color: var(--fill-color);\n",
              "    }\n",
              "    60% {\n",
              "      border-color: transparent;\n",
              "      border-right-color: var(--fill-color);\n",
              "    }\n",
              "    80% {\n",
              "      border-color: transparent;\n",
              "      border-right-color: var(--fill-color);\n",
              "      border-bottom-color: var(--fill-color);\n",
              "    }\n",
              "    90% {\n",
              "      border-color: transparent;\n",
              "      border-bottom-color: var(--fill-color);\n",
              "    }\n",
              "  }\n",
              "</style>\n",
              "\n",
              "  <script>\n",
              "    async function quickchart(key) {\n",
              "      const quickchartButtonEl =\n",
              "        document.querySelector('#' + key + ' button');\n",
              "      quickchartButtonEl.disabled = true;  // To prevent multiple clicks.\n",
              "      quickchartButtonEl.classList.add('colab-df-spinner');\n",
              "      try {\n",
              "        const charts = await google.colab.kernel.invokeFunction(\n",
              "            'suggestCharts', [key], {});\n",
              "      } catch (error) {\n",
              "        console.error('Error during call to suggestCharts:', error);\n",
              "      }\n",
              "      quickchartButtonEl.classList.remove('colab-df-spinner');\n",
              "      quickchartButtonEl.classList.add('colab-df-quickchart-complete');\n",
              "    }\n",
              "    (() => {\n",
              "      let quickchartButtonEl =\n",
              "        document.querySelector('#df-304c59df-9432-434f-89f0-851095777f0c button');\n",
              "      quickchartButtonEl.style.display =\n",
              "        google.colab.kernel.accessAllowed ? 'block' : 'none';\n",
              "    })();\n",
              "  </script>\n",
              "</div>\n",
              "\n",
              "    </div>\n",
              "  </div>\n"
            ],
            "application/vnd.google.colaboratory.intrinsic+json": {
              "type": "dataframe",
              "variable_name": "data"
            }
          },
          "metadata": {},
          "execution_count": 14
        }
      ],
      "source": [
        "data.head()"
      ]
    },
    {
      "cell_type": "code",
      "execution_count": 15,
      "metadata": {
        "id": "1_ABGv6I9Ebf",
        "colab": {
          "base_uri": "https://localhost:8080/",
          "height": 244
        },
        "outputId": "0c76129e-9925-4e37-beb3-47679ac28e58"
      },
      "outputs": [
        {
          "output_type": "execute_result",
          "data": {
            "text/plain": [
              "   Unnamed: 0  SeriousDlqin2yrs  RevolvingUtilizationOfUnsecuredLines  age  \\\n",
              "0           1               NaN                              0.885519   43   \n",
              "1           2               NaN                              0.463295   57   \n",
              "2           3               NaN                              0.043275   59   \n",
              "3           4               NaN                              0.280308   38   \n",
              "4           5               NaN                              1.000000   27   \n",
              "\n",
              "   NumberOfTime30-59DaysPastDueNotWorse  DebtRatio  MonthlyIncome  \\\n",
              "0                                     0   0.177513         5700.0   \n",
              "1                                     0   0.527237         9141.0   \n",
              "2                                     0   0.687648         5083.0   \n",
              "3                                     1   0.925961         3200.0   \n",
              "4                                     0   0.019917         3865.0   \n",
              "\n",
              "   NumberOfOpenCreditLinesAndLoans  NumberOfTimes90DaysLate  \\\n",
              "0                                4                        0   \n",
              "1                               15                        0   \n",
              "2                               12                        0   \n",
              "3                                7                        0   \n",
              "4                                4                        0   \n",
              "\n",
              "   NumberRealEstateLoansOrLines  NumberOfTime60-89DaysPastDueNotWorse  \\\n",
              "0                             0                                     0   \n",
              "1                             4                                     0   \n",
              "2                             1                                     0   \n",
              "3                             2                                     0   \n",
              "4                             0                                     0   \n",
              "\n",
              "   NumberOfDependents  \n",
              "0                 0.0  \n",
              "1                 2.0  \n",
              "2                 2.0  \n",
              "3                 0.0  \n",
              "4                 1.0  "
            ],
            "text/html": [
              "\n",
              "  <div id=\"df-ab9977f3-6096-461d-aec0-da30eeae9caa\" class=\"colab-df-container\">\n",
              "    <div>\n",
              "<style scoped>\n",
              "    .dataframe tbody tr th:only-of-type {\n",
              "        vertical-align: middle;\n",
              "    }\n",
              "\n",
              "    .dataframe tbody tr th {\n",
              "        vertical-align: top;\n",
              "    }\n",
              "\n",
              "    .dataframe thead th {\n",
              "        text-align: right;\n",
              "    }\n",
              "</style>\n",
              "<table border=\"1\" class=\"dataframe\">\n",
              "  <thead>\n",
              "    <tr style=\"text-align: right;\">\n",
              "      <th></th>\n",
              "      <th>Unnamed: 0</th>\n",
              "      <th>SeriousDlqin2yrs</th>\n",
              "      <th>RevolvingUtilizationOfUnsecuredLines</th>\n",
              "      <th>age</th>\n",
              "      <th>NumberOfTime30-59DaysPastDueNotWorse</th>\n",
              "      <th>DebtRatio</th>\n",
              "      <th>MonthlyIncome</th>\n",
              "      <th>NumberOfOpenCreditLinesAndLoans</th>\n",
              "      <th>NumberOfTimes90DaysLate</th>\n",
              "      <th>NumberRealEstateLoansOrLines</th>\n",
              "      <th>NumberOfTime60-89DaysPastDueNotWorse</th>\n",
              "      <th>NumberOfDependents</th>\n",
              "    </tr>\n",
              "  </thead>\n",
              "  <tbody>\n",
              "    <tr>\n",
              "      <th>0</th>\n",
              "      <td>1</td>\n",
              "      <td>NaN</td>\n",
              "      <td>0.885519</td>\n",
              "      <td>43</td>\n",
              "      <td>0</td>\n",
              "      <td>0.177513</td>\n",
              "      <td>5700.0</td>\n",
              "      <td>4</td>\n",
              "      <td>0</td>\n",
              "      <td>0</td>\n",
              "      <td>0</td>\n",
              "      <td>0.0</td>\n",
              "    </tr>\n",
              "    <tr>\n",
              "      <th>1</th>\n",
              "      <td>2</td>\n",
              "      <td>NaN</td>\n",
              "      <td>0.463295</td>\n",
              "      <td>57</td>\n",
              "      <td>0</td>\n",
              "      <td>0.527237</td>\n",
              "      <td>9141.0</td>\n",
              "      <td>15</td>\n",
              "      <td>0</td>\n",
              "      <td>4</td>\n",
              "      <td>0</td>\n",
              "      <td>2.0</td>\n",
              "    </tr>\n",
              "    <tr>\n",
              "      <th>2</th>\n",
              "      <td>3</td>\n",
              "      <td>NaN</td>\n",
              "      <td>0.043275</td>\n",
              "      <td>59</td>\n",
              "      <td>0</td>\n",
              "      <td>0.687648</td>\n",
              "      <td>5083.0</td>\n",
              "      <td>12</td>\n",
              "      <td>0</td>\n",
              "      <td>1</td>\n",
              "      <td>0</td>\n",
              "      <td>2.0</td>\n",
              "    </tr>\n",
              "    <tr>\n",
              "      <th>3</th>\n",
              "      <td>4</td>\n",
              "      <td>NaN</td>\n",
              "      <td>0.280308</td>\n",
              "      <td>38</td>\n",
              "      <td>1</td>\n",
              "      <td>0.925961</td>\n",
              "      <td>3200.0</td>\n",
              "      <td>7</td>\n",
              "      <td>0</td>\n",
              "      <td>2</td>\n",
              "      <td>0</td>\n",
              "      <td>0.0</td>\n",
              "    </tr>\n",
              "    <tr>\n",
              "      <th>4</th>\n",
              "      <td>5</td>\n",
              "      <td>NaN</td>\n",
              "      <td>1.000000</td>\n",
              "      <td>27</td>\n",
              "      <td>0</td>\n",
              "      <td>0.019917</td>\n",
              "      <td>3865.0</td>\n",
              "      <td>4</td>\n",
              "      <td>0</td>\n",
              "      <td>0</td>\n",
              "      <td>0</td>\n",
              "      <td>1.0</td>\n",
              "    </tr>\n",
              "  </tbody>\n",
              "</table>\n",
              "</div>\n",
              "    <div class=\"colab-df-buttons\">\n",
              "\n",
              "  <div class=\"colab-df-container\">\n",
              "    <button class=\"colab-df-convert\" onclick=\"convertToInteractive('df-ab9977f3-6096-461d-aec0-da30eeae9caa')\"\n",
              "            title=\"Convert this dataframe to an interactive table.\"\n",
              "            style=\"display:none;\">\n",
              "\n",
              "  <svg xmlns=\"http://www.w3.org/2000/svg\" height=\"24px\" viewBox=\"0 -960 960 960\">\n",
              "    <path d=\"M120-120v-720h720v720H120Zm60-500h600v-160H180v160Zm220 220h160v-160H400v160Zm0 220h160v-160H400v160ZM180-400h160v-160H180v160Zm440 0h160v-160H620v160ZM180-180h160v-160H180v160Zm440 0h160v-160H620v160Z\"/>\n",
              "  </svg>\n",
              "    </button>\n",
              "\n",
              "  <style>\n",
              "    .colab-df-container {\n",
              "      display:flex;\n",
              "      gap: 12px;\n",
              "    }\n",
              "\n",
              "    .colab-df-convert {\n",
              "      background-color: #E8F0FE;\n",
              "      border: none;\n",
              "      border-radius: 50%;\n",
              "      cursor: pointer;\n",
              "      display: none;\n",
              "      fill: #1967D2;\n",
              "      height: 32px;\n",
              "      padding: 0 0 0 0;\n",
              "      width: 32px;\n",
              "    }\n",
              "\n",
              "    .colab-df-convert:hover {\n",
              "      background-color: #E2EBFA;\n",
              "      box-shadow: 0px 1px 2px rgba(60, 64, 67, 0.3), 0px 1px 3px 1px rgba(60, 64, 67, 0.15);\n",
              "      fill: #174EA6;\n",
              "    }\n",
              "\n",
              "    .colab-df-buttons div {\n",
              "      margin-bottom: 4px;\n",
              "    }\n",
              "\n",
              "    [theme=dark] .colab-df-convert {\n",
              "      background-color: #3B4455;\n",
              "      fill: #D2E3FC;\n",
              "    }\n",
              "\n",
              "    [theme=dark] .colab-df-convert:hover {\n",
              "      background-color: #434B5C;\n",
              "      box-shadow: 0px 1px 3px 1px rgba(0, 0, 0, 0.15);\n",
              "      filter: drop-shadow(0px 1px 2px rgba(0, 0, 0, 0.3));\n",
              "      fill: #FFFFFF;\n",
              "    }\n",
              "  </style>\n",
              "\n",
              "    <script>\n",
              "      const buttonEl =\n",
              "        document.querySelector('#df-ab9977f3-6096-461d-aec0-da30eeae9caa button.colab-df-convert');\n",
              "      buttonEl.style.display =\n",
              "        google.colab.kernel.accessAllowed ? 'block' : 'none';\n",
              "\n",
              "      async function convertToInteractive(key) {\n",
              "        const element = document.querySelector('#df-ab9977f3-6096-461d-aec0-da30eeae9caa');\n",
              "        const dataTable =\n",
              "          await google.colab.kernel.invokeFunction('convertToInteractive',\n",
              "                                                    [key], {});\n",
              "        if (!dataTable) return;\n",
              "\n",
              "        const docLinkHtml = 'Like what you see? Visit the ' +\n",
              "          '<a target=\"_blank\" href=https://colab.research.google.com/notebooks/data_table.ipynb>data table notebook</a>'\n",
              "          + ' to learn more about interactive tables.';\n",
              "        element.innerHTML = '';\n",
              "        dataTable['output_type'] = 'display_data';\n",
              "        await google.colab.output.renderOutput(dataTable, element);\n",
              "        const docLink = document.createElement('div');\n",
              "        docLink.innerHTML = docLinkHtml;\n",
              "        element.appendChild(docLink);\n",
              "      }\n",
              "    </script>\n",
              "  </div>\n",
              "\n",
              "\n",
              "<div id=\"df-d6225dbb-1b39-4db5-8b9b-38478917ba2b\">\n",
              "  <button class=\"colab-df-quickchart\" onclick=\"quickchart('df-d6225dbb-1b39-4db5-8b9b-38478917ba2b')\"\n",
              "            title=\"Suggest charts\"\n",
              "            style=\"display:none;\">\n",
              "\n",
              "<svg xmlns=\"http://www.w3.org/2000/svg\" height=\"24px\"viewBox=\"0 0 24 24\"\n",
              "     width=\"24px\">\n",
              "    <g>\n",
              "        <path d=\"M19 3H5c-1.1 0-2 .9-2 2v14c0 1.1.9 2 2 2h14c1.1 0 2-.9 2-2V5c0-1.1-.9-2-2-2zM9 17H7v-7h2v7zm4 0h-2V7h2v10zm4 0h-2v-4h2v4z\"/>\n",
              "    </g>\n",
              "</svg>\n",
              "  </button>\n",
              "\n",
              "<style>\n",
              "  .colab-df-quickchart {\n",
              "      --bg-color: #E8F0FE;\n",
              "      --fill-color: #1967D2;\n",
              "      --hover-bg-color: #E2EBFA;\n",
              "      --hover-fill-color: #174EA6;\n",
              "      --disabled-fill-color: #AAA;\n",
              "      --disabled-bg-color: #DDD;\n",
              "  }\n",
              "\n",
              "  [theme=dark] .colab-df-quickchart {\n",
              "      --bg-color: #3B4455;\n",
              "      --fill-color: #D2E3FC;\n",
              "      --hover-bg-color: #434B5C;\n",
              "      --hover-fill-color: #FFFFFF;\n",
              "      --disabled-bg-color: #3B4455;\n",
              "      --disabled-fill-color: #666;\n",
              "  }\n",
              "\n",
              "  .colab-df-quickchart {\n",
              "    background-color: var(--bg-color);\n",
              "    border: none;\n",
              "    border-radius: 50%;\n",
              "    cursor: pointer;\n",
              "    display: none;\n",
              "    fill: var(--fill-color);\n",
              "    height: 32px;\n",
              "    padding: 0;\n",
              "    width: 32px;\n",
              "  }\n",
              "\n",
              "  .colab-df-quickchart:hover {\n",
              "    background-color: var(--hover-bg-color);\n",
              "    box-shadow: 0 1px 2px rgba(60, 64, 67, 0.3), 0 1px 3px 1px rgba(60, 64, 67, 0.15);\n",
              "    fill: var(--button-hover-fill-color);\n",
              "  }\n",
              "\n",
              "  .colab-df-quickchart-complete:disabled,\n",
              "  .colab-df-quickchart-complete:disabled:hover {\n",
              "    background-color: var(--disabled-bg-color);\n",
              "    fill: var(--disabled-fill-color);\n",
              "    box-shadow: none;\n",
              "  }\n",
              "\n",
              "  .colab-df-spinner {\n",
              "    border: 2px solid var(--fill-color);\n",
              "    border-color: transparent;\n",
              "    border-bottom-color: var(--fill-color);\n",
              "    animation:\n",
              "      spin 1s steps(1) infinite;\n",
              "  }\n",
              "\n",
              "  @keyframes spin {\n",
              "    0% {\n",
              "      border-color: transparent;\n",
              "      border-bottom-color: var(--fill-color);\n",
              "      border-left-color: var(--fill-color);\n",
              "    }\n",
              "    20% {\n",
              "      border-color: transparent;\n",
              "      border-left-color: var(--fill-color);\n",
              "      border-top-color: var(--fill-color);\n",
              "    }\n",
              "    30% {\n",
              "      border-color: transparent;\n",
              "      border-left-color: var(--fill-color);\n",
              "      border-top-color: var(--fill-color);\n",
              "      border-right-color: var(--fill-color);\n",
              "    }\n",
              "    40% {\n",
              "      border-color: transparent;\n",
              "      border-right-color: var(--fill-color);\n",
              "      border-top-color: var(--fill-color);\n",
              "    }\n",
              "    60% {\n",
              "      border-color: transparent;\n",
              "      border-right-color: var(--fill-color);\n",
              "    }\n",
              "    80% {\n",
              "      border-color: transparent;\n",
              "      border-right-color: var(--fill-color);\n",
              "      border-bottom-color: var(--fill-color);\n",
              "    }\n",
              "    90% {\n",
              "      border-color: transparent;\n",
              "      border-bottom-color: var(--fill-color);\n",
              "    }\n",
              "  }\n",
              "</style>\n",
              "\n",
              "  <script>\n",
              "    async function quickchart(key) {\n",
              "      const quickchartButtonEl =\n",
              "        document.querySelector('#' + key + ' button');\n",
              "      quickchartButtonEl.disabled = true;  // To prevent multiple clicks.\n",
              "      quickchartButtonEl.classList.add('colab-df-spinner');\n",
              "      try {\n",
              "        const charts = await google.colab.kernel.invokeFunction(\n",
              "            'suggestCharts', [key], {});\n",
              "      } catch (error) {\n",
              "        console.error('Error during call to suggestCharts:', error);\n",
              "      }\n",
              "      quickchartButtonEl.classList.remove('colab-df-spinner');\n",
              "      quickchartButtonEl.classList.add('colab-df-quickchart-complete');\n",
              "    }\n",
              "    (() => {\n",
              "      let quickchartButtonEl =\n",
              "        document.querySelector('#df-d6225dbb-1b39-4db5-8b9b-38478917ba2b button');\n",
              "      quickchartButtonEl.style.display =\n",
              "        google.colab.kernel.accessAllowed ? 'block' : 'none';\n",
              "    })();\n",
              "  </script>\n",
              "</div>\n",
              "\n",
              "    </div>\n",
              "  </div>\n"
            ],
            "application/vnd.google.colaboratory.intrinsic+json": {
              "type": "dataframe",
              "variable_name": "test"
            }
          },
          "metadata": {},
          "execution_count": 15
        }
      ],
      "source": [
        "test.head()"
      ]
    },
    {
      "cell_type": "code",
      "execution_count": 16,
      "metadata": {
        "id": "xaxVjqIZvvHV",
        "colab": {
          "base_uri": "https://localhost:8080/"
        },
        "outputId": "daf2c781-6baf-45ad-a38e-47b2697b7a3c"
      },
      "outputs": [
        {
          "output_type": "stream",
          "name": "stdout",
          "text": [
            "Data before removing duplicates: (150000, 12)\n",
            "Data after removing duplicates: (150000, 12)\n"
          ]
        }
      ],
      "source": [
        "# Remove duplicates if any\n",
        "print(f\"Data before removing duplicates: {data.shape}\")\n",
        "data = data.drop_duplicates()\n",
        "print(f\"Data after removing duplicates: {data.shape}\")"
      ]
    },
    {
      "cell_type": "markdown",
      "metadata": {
        "id": "Vx32J2Cgwxy6"
      },
      "source": [
        "### **Feature Engineering**"
      ]
    },
    {
      "cell_type": "markdown",
      "metadata": {
        "id": "vcO_SHHpx_wr"
      },
      "source": [
        "#### **Encoding Categorical Variables**"
      ]
    },
    {
      "cell_type": "code",
      "execution_count": 17,
      "metadata": {
        "id": "JHxhhvnZuKem",
        "colab": {
          "base_uri": "https://localhost:8080/",
          "height": 583
        },
        "outputId": "6bd9d789-3880-4db3-cb78-86c947de719c"
      },
      "outputs": [
        {
          "output_type": "display_data",
          "data": {
            "text/plain": [
              "<Figure size 1400x800 with 2 Axes>"
            ],
            "image/png": "[encoded data removed]"
          },
          "metadata": {}
        }
      ],
      "source": [
        "# Correlation heatmap\n",
        "plt.figure(figsize=(14, 8))\n",
        "correlation_matrix = data.corr()\n",
        "sns.heatmap(correlation_matrix, annot=True, cmap=\"coolwarm\", fmt=\".2f\")\n",
        "plt.title(\"Correlation Heatmap\")\n",
        "plt.show()"
      ]
    },
    {
      "cell_type": "code",
      "execution_count": 18,
      "metadata": {
        "id": "zw_Q8Er06HKy",
        "colab": {
          "base_uri": "https://localhost:8080/"
        },
        "outputId": "666d3d70-0aee-4804-9556-c3ccb06d921e"
      },
      "outputs": [
        {
          "output_type": "stream",
          "name": "stdout",
          "text": [
            "        SeriousDlqin2yrs  RevolvingUtilizationOfUnsecuredLines  age  \\\n",
            "0                      1                              0.766127   45   \n",
            "1                      0                              0.957151   40   \n",
            "2                      0                              0.658180   38   \n",
            "3                      0                              0.233810   30   \n",
            "4                      0                              0.907239   49   \n",
            "...                  ...                                   ...  ...   \n",
            "149995                 0                              0.040674   74   \n",
            "149996                 0                              0.299745   44   \n",
            "149997                 0                              0.246044   58   \n",
            "149998                 0                              0.000000   30   \n",
            "149999                 0                              0.850283   64   \n",
            "\n",
            "        NumberOfTime30-59DaysPastDueNotWorse    DebtRatio  MonthlyIncome  \\\n",
            "0                                          2     0.802982    9120.000000   \n",
            "1                                          0     0.121876    2600.000000   \n",
            "2                                          1     0.085113    3042.000000   \n",
            "3                                          0     0.036050    3300.000000   \n",
            "4                                          1     0.024926   63588.000000   \n",
            "...                                      ...          ...            ...   \n",
            "149995                                     0     0.225131    2100.000000   \n",
            "149996                                     0     0.716562    5584.000000   \n",
            "149997                                     0  3870.000000    6670.221237   \n",
            "149998                                     0     0.000000    5716.000000   \n",
            "149999                                     0     0.249908    8158.000000   \n",
            "\n",
            "        NumberOfOpenCreditLinesAndLoans  NumberOfTimes90DaysLate  \\\n",
            "0                                    13                        0   \n",
            "1                                     4                        0   \n",
            "2                                     2                        1   \n",
            "3                                     5                        0   \n",
            "4                                     7                        0   \n",
            "...                                 ...                      ...   \n",
            "149995                                4                        0   \n",
            "149996                                4                        0   \n",
            "149997                               18                        0   \n",
            "149998                                4                        0   \n",
            "149999                                8                        0   \n",
            "\n",
            "        NumberRealEstateLoansOrLines  NumberOfTime60-89DaysPastDueNotWorse  \\\n",
            "0                                  6                                     0   \n",
            "1                                  0                                     0   \n",
            "2                                  0                                     0   \n",
            "3                                  0                                     0   \n",
            "4                                  1                                     0   \n",
            "...                              ...                                   ...   \n",
            "149995                             1                                     0   \n",
            "149996                             1                                     0   \n",
            "149997                             1                                     0   \n",
            "149998                             0                                     0   \n",
            "149999                             2                                     0   \n",
            "\n",
            "        NumberOfDependents  \n",
            "0                      2.0  \n",
            "1                      1.0  \n",
            "2                      0.0  \n",
            "3                      0.0  \n",
            "4                      0.0  \n",
            "...                    ...  \n",
            "149995                 0.0  \n",
            "149996                 2.0  \n",
            "149997                 0.0  \n",
            "149998                 0.0  \n",
            "149999                 0.0  \n",
            "\n",
            "[150000 rows x 11 columns]\n"
          ]
        }
      ],
      "source": [
        "# Drop a single column\n",
        "data = data.drop(columns=['Unnamed: 0'])\n",
        "print(data)"
      ]
    },
    {
      "cell_type": "markdown",
      "metadata": {
        "id": "pzA3b0o3ykyq"
      },
      "source": [
        "#### **Data Splitting**"
      ]
    },
    {
      "cell_type": "code",
      "execution_count": 19,
      "metadata": {
        "id": "dk1v-M1-O_l9"
      },
      "outputs": [],
      "source": [
        "test = test.drop(columns = ['SeriousDlqin2yrs'])"
      ]
    },
    {
      "cell_type": "code",
      "execution_count": 20,
      "metadata": {
        "id": "yN8FnO0ny5p8"
      },
      "outputs": [],
      "source": [
        "from sklearn.model_selection import train_test_split\n",
        "from sklearn.preprocessing import StandardScaler\n",
        "# Separate features and target\n",
        "X = data.drop(columns=['SeriousDlqin2yrs'])\n",
        "y = data['SeriousDlqin2yrs']\n",
        "\n",
        "scaler = StandardScaler()\n",
        "X= scaler.fit_transform(X)\n",
        "test = scaler.fit_transform(test)"
      ]
    },
    {
      "cell_type": "code",
      "execution_count": 20,
      "metadata": {
        "id": "k_RmiMQTOw0F"
      },
      "outputs": [],
      "source": []
    },
    {
      "cell_type": "code",
      "execution_count": 20,
      "metadata": {
        "id": "3Hzqp7aZJiNd"
      },
      "outputs": [],
      "source": []
    },
    {
      "cell_type": "code",
      "execution_count": 21,
      "metadata": {
        "id": "PUAaR60M-c3t",
        "colab": {
          "base_uri": "https://localhost:8080/"
        },
        "outputId": "35e6f1a7-c461-446a-c769-7454f5463891"
      },
      "outputs": [
        {
          "output_type": "stream",
          "name": "stdout",
          "text": [
            "Training set size: 120000\n",
            "Validation set size: 30000\n",
            "Test set size: 101503\n"
          ]
        }
      ],
      "source": [
        "X_train, X_val, y_train, y_val = train_test_split(X, y, test_size=0.2, random_state=42)\n",
        "X_test = test\n",
        "print(f\"Training set size: {X_train.shape[0]}\")\n",
        "print(f\"Validation set size: {X_val.shape[0]}\")\n",
        "print(f\"Test set size: {X_test.shape[0]}\")"
      ]
    },
    {
      "cell_type": "markdown",
      "metadata": {
        "id": "hW0kcYJm2CSs"
      },
      "source": [
        "# **Some Useful Functions**"
      ]
    },
    {
      "cell_type": "code",
      "execution_count": 22,
      "metadata": {
        "id": "GsAzjVNF2Hui"
      },
      "outputs": [],
      "source": [
        "import pickle\n",
        "\n",
        "def save_model(model, filename):\n",
        "    # Save the trained model to a file.\n",
        "\n",
        "    with open(filename, \"wb\") as model_file:\n",
        "        pickle.dump(model, model_file)\n",
        "    print(f\"Model saved successfully to {filename}.\")\n"
      ]
    },
    {
      "cell_type": "code",
      "execution_count": 23,
      "metadata": {
        "id": "MtRklXP72NO9"
      },
      "outputs": [],
      "source": [
        "def load_model(filename):\n",
        "\n",
        "    # Load a model from a file.\n",
        "\n",
        "    with open(filename, \"rb\") as model_file:\n",
        "        model = pickle.load(model_file)\n",
        "    print(f\"Model loaded successfully from {filename}.\")\n",
        "    return model\n"
      ]
    },
    {
      "cell_type": "code",
      "execution_count": 24,
      "metadata": {
        "id": "5vmgEZkI2Xn5"
      },
      "outputs": [],
      "source": [
        "def predict_with_model(model, X_data):\n",
        "    # Use a trained model to make predictions on given data.\n",
        "    predictions = model.predict(X_data)\n",
        "    return predictions\n"
      ]
    },
    {
      "cell_type": "code",
      "execution_count": 25,
      "metadata": {
        "id": "D_t7CX923Kif"
      },
      "outputs": [],
      "source": [
        "from sklearn.metrics import accuracy_score, precision_score, recall_score, f1_score, confusion_matrix\n",
        "\n",
        "def evaluate_model(model, X_data, y_true):\n",
        "\n",
        "    # Make predictions\n",
        "    predictions = model.predict(X_data)\n",
        "\n",
        "    # Calculate evaluation metrics\n",
        "    accuracy = accuracy_score(y_true, predictions)\n",
        "    precision = precision_score(y_true, predictions, average='weighted')\n",
        "    recall = recall_score(y_true, predictions, average='weighted')\n",
        "    f1 = f1_score(y_true, predictions, average='weighted')\n",
        "    conf_matrix = confusion_matrix(y_true, predictions)\n",
        "\n",
        "    # Print the metrics\n",
        "    print(\"Classification Evaluation Metrics:\")\n",
        "    print(f\"Accuracy: {accuracy:.4f}\")\n",
        "    print(f\"Precision: {precision:.4f}\")\n",
        "    print(f\"Recall: {recall:.4f}\")\n",
        "    print(f\"F1 Score: {f1:.4f}\")\n",
        "    print(\"Confusion Matrix:\")\n",
        "    print(conf_matrix)\n",
        "\n",
        "    # Return the metrics as a dictionary\n",
        "    return {\n",
        "        \"Accuracy\": accuracy,\n",
        "        \"Precision\": precision,\n",
        "        \"Recall\": recall,\n",
        "        \"F1 Score\": f1,\n",
        "        \"Confusion Matrix\": conf_matrix\n",
        "    }\n"
      ]
    },
    {
      "cell_type": "markdown",
      "metadata": {
        "id": "GbK4cNRE0QZV"
      },
      "source": [
        "# **Algorithm Selection**"
      ]
    },
    {
      "cell_type": "markdown",
      "metadata": {
        "id": "bm9-sOCNFmFm"
      },
      "source": [
        "Based on the problem definition and data characteristics, this is a regression problem (predicting a continuous target: Life Expectancy). The following algorithms are suitable for regression tasks:\n",
        "\n",
        "#### **Algorithms used:**\n",
        "\n",
        "**Logistic Models:**\n",
        "\n",
        "---\n",
        "\n",
        "*Logistics Regression*: A baseline model to establish initial performance.\n",
        "Regression: Handle multicollinearity and feature selection.\n",
        "\n",
        "**Tree-Based Models:**\n",
        "\n",
        "---\n",
        "\n",
        "*Random Forest Regressor*: Handles non-linearity and captures interactions between features.\n",
        "\n",
        "*Gradient Boosting Regressor*: Builds a strong model by iteratively improving weak learners."
      ]
    },
    {
      "cell_type": "markdown",
      "metadata": {
        "id": "8EwApA9OGRu_"
      },
      "source": [
        "**Computational Cost and Interpretability**\n",
        "\n",
        "*Logistic Regression:* Low computational cost, high interpretability.\n",
        "\n",
        "*Random Forest*: Medium computational cost, limited interpretability.\n",
        "\n",
        "*Gradient Boosting:* Higher computational cost, excellent performance in many cases."
      ]
    },
    {
      "cell_type": "markdown",
      "metadata": {
        "id": "om60fDi3FWae"
      },
      "source": [
        "# **Model Development and Training**"
      ]
    },
    {
      "cell_type": "code",
      "execution_count": 26,
      "metadata": {
        "id": "C83lz-H64MAC"
      },
      "outputs": [],
      "source": [
        "from sklearn.linear_model import LogisticRegression\n",
        "from sklearn.metrics import mean_absolute_error, mean_squared_error, r2_score\n",
        "from sklearn.model_selection import GridSearchCV\n",
        "from sklearn.ensemble import RandomForestClassifier\n",
        "\n",
        "import pickle"
      ]
    },
    {
      "cell_type": "markdown",
      "metadata": {
        "id": "6A8JobB12rtn"
      },
      "source": [
        "#### **Linear Regression**"
      ]
    },
    {
      "cell_type": "code",
      "execution_count": 27,
      "metadata": {
        "id": "v7ttD89s2vzG",
        "colab": {
          "base_uri": "https://localhost:8080/"
        },
        "outputId": "da4653c0-3322-440f-894b-844be4a6a42d"
      },
      "outputs": [
        {
          "output_type": "stream",
          "name": "stdout",
          "text": [
            "Model saved successfully to logistic_regression_model.pkl.\n"
          ]
        }
      ],
      "source": [
        "# Train the Linear Regression model\n",
        "logistic_reg = LogisticRegression()\n",
        "logistic_reg.fit(X_train, y_train)\n",
        "\n",
        "# Save the trained model\n",
        "save_model(logistic_reg, \"logistic_regression_model.pkl\")\n"
      ]
    },
    {
      "cell_type": "code",
      "execution_count": 28,
      "metadata": {
        "id": "gJphtsfK2z2q",
        "colab": {
          "base_uri": "https://localhost:8080/"
        },
        "outputId": "89a50e4b-3353-4695-d4b3-bd198e987a18"
      },
      "outputs": [
        {
          "output_type": "stream",
          "name": "stdout",
          "text": [
            "Model loaded successfully from logistic_regression_model.pkl.\n",
            "\n",
            "Evaluate the model on the validation set\n",
            "Classification Evaluation Metrics:\n",
            "Accuracy: 0.9350\n",
            "Precision: 0.9101\n",
            "Recall: 0.9350\n",
            "F1 Score: 0.9080\n",
            "Confusion Matrix:\n",
            "[[27975    69]\n",
            " [ 1880    76]]\n"
          ]
        }
      ],
      "source": [
        "# Load the saved model\n",
        "loaded_log_regression_model = load_model(\"logistic_regression_model.pkl\")\n",
        "\n",
        "print(\"\\nEvaluate the model on the validation set\")\n",
        "val_metrics_linear_regression = evaluate_model(loaded_log_regression_model, X_val, y_val)\n"
      ]
    },
    {
      "cell_type": "markdown",
      "metadata": {
        "id": "QEyHYN1Y3fnt"
      },
      "source": [
        "#### **Random Forest Regressor**"
      ]
    },
    {
      "cell_type": "code",
      "execution_count": 29,
      "metadata": {
        "id": "4i4fBi69kRPP",
        "colab": {
          "base_uri": "https://localhost:8080/"
        },
        "outputId": "a51bce76-a6fd-4e77-ab7d-f3246e6a39b0"
      },
      "outputs": [
        {
          "output_type": "stream",
          "name": "stdout",
          "text": [
            "Model saved successfully to random_forest_model.pkl.\n"
          ]
        }
      ],
      "source": [
        "# Initialize the Random Forest Regressor\n",
        "rf_model = RandomForestClassifier(random_state=42, n_estimators=500)\n",
        "\n",
        "# Train the model on the training set\n",
        "rf_model.fit(X_train, y_train)\n",
        "\n",
        "# Save the trained model\n",
        "save_model(rf_model, \"random_forest_model.pkl\")"
      ]
    },
    {
      "cell_type": "code",
      "execution_count": 30,
      "metadata": {
        "id": "99JU4XkYkSkz",
        "colab": {
          "base_uri": "https://localhost:8080/"
        },
        "outputId": "61808b3c-ff48-42bc-ab9d-560503838f3a"
      },
      "outputs": [
        {
          "output_type": "stream",
          "name": "stdout",
          "text": [
            "Model loaded successfully from random_forest_model.pkl.\n",
            "Evaluate the model on the validation set\n",
            "Classification Evaluation Metrics:\n",
            "Accuracy: 0.9374\n",
            "Precision: 0.9213\n",
            "Recall: 0.9374\n",
            "F1 Score: 0.9236\n",
            "Confusion Matrix:\n",
            "[[27725   319]\n",
            " [ 1558   398]]\n"
          ]
        }
      ],
      "source": [
        "# Load the saved model\n",
        "loaded_rf_model = load_model(\"random_forest_model.pkl\")\n",
        "\n",
        "print(\"Evaluate the model on the validation set\")\n",
        "val_metrics_rf = evaluate_model(loaded_rf_model, X_val, y_val)"
      ]
    },
    {
      "cell_type": "code",
      "execution_count": 30,
      "metadata": {
        "id": "zkMbqUWHEZKU"
      },
      "outputs": [],
      "source": []
    },
    {
      "cell_type": "markdown",
      "metadata": {
        "id": "w1swBaSl4-3s"
      },
      "source": [
        "#### **Hyperparameter Tuning for Random Forest Classifier**\n"
      ]
    },
    {
      "cell_type": "markdown",
      "metadata": {
        "id": "w22a33Cr4aA8"
      },
      "source": [
        "We’ll use GridSearchCV to find the best combination of hyperparameters for the Random Forest Regressor. The key hyperparameters to tune include:\n",
        "\n",
        "**n_estimators**: Number of trees in the forest.\n",
        "\n",
        "**max_depth**: Maximum depth of each tree.\n",
        "\n",
        "**min_samples_split**: Minimum number of samples required to split a node.\n",
        "\n",
        "**min_samples_leaf**: Minimum number of samples required to be a leaf node."
      ]
    },
    {
      "cell_type": "code",
      "execution_count": 31,
      "metadata": {
        "colab": {
          "base_uri": "https://localhost:8080/"
        },
        "id": "XsSoJlWZ5A3Q",
        "outputId": "d78395a3-ce35-49aa-d1bd-fdbe7294a679"
      },
      "outputs": [
        {
          "output_type": "stream",
          "name": "stdout",
          "text": [
            "Fitting 3 folds for each of 8 candidates, totalling 24 fits\n",
            "Best Parameters: {'max_depth': 10, 'min_samples_leaf': 4, 'min_samples_split': 5, 'n_estimators': 125}\n",
            "Best Accuracy (GridSearch): 0.9366583333333334\n"
          ]
        }
      ],
      "source": [
        "from sklearn.ensemble import RandomForestClassifier\n",
        "from sklearn.model_selection import GridSearchCV\n",
        "\n",
        "# Define the parameter grid\n",
        "param_grid = {\n",
        "    'n_estimators': [50, 125],\n",
        "    'max_depth': [10],\n",
        "    'min_samples_split': [5, 10],\n",
        "    'min_samples_leaf': [2, 4]\n",
        "}\n",
        "\n",
        "# Initialize the Random Forest Classifier\n",
        "rf_tuned_model = RandomForestClassifier(random_state=42)\n",
        "\n",
        "# Set up GridSearchCV\n",
        "grid_search = GridSearchCV(\n",
        "    estimator=rf_tuned_model,\n",
        "    param_grid=param_grid,\n",
        "    cv=3,  # 3-fold cross-validation\n",
        "    scoring='accuracy',  # Use accuracy for classification\n",
        "    n_jobs=-1,\n",
        "    verbose=2\n",
        ")\n",
        "\n",
        "# Perform the grid search\n",
        "grid_search.fit(X_train, y_train)\n",
        "\n",
        "# Display the best parameters and the best score\n",
        "print(\"Best Parameters:\", grid_search.best_params_)\n",
        "print(\"Best Accuracy (GridSearch):\", grid_search.best_score_)\n"
      ]
    },
    {
      "cell_type": "code",
      "execution_count": 32,
      "metadata": {
        "colab": {
          "base_uri": "https://localhost:8080/"
        },
        "id": "4XygAw2i5Pux",
        "outputId": "a82f70f6-d0a0-4119-b6f6-74090f3b85c7"
      },
      "outputs": [
        {
          "output_type": "stream",
          "name": "stdout",
          "text": [
            "Model saved successfully to tuned_random_forest_model.pkl.\n"
          ]
        }
      ],
      "source": [
        "# Retrieve the best model from the grid search\n",
        "best_rf_model = grid_search.best_estimator_\n",
        "\n",
        "# Save the tuned model\n",
        "save_model(best_rf_model, \"tuned_random_forest_model.pkl\")"
      ]
    },
    {
      "cell_type": "code",
      "execution_count": 33,
      "metadata": {
        "colab": {
          "base_uri": "https://localhost:8080/"
        },
        "id": "xexUXtGn_yQF",
        "outputId": "8ef38c4d-c095-48c8-a92b-974f89331f6d"
      },
      "outputs": [
        {
          "output_type": "stream",
          "name": "stdout",
          "text": [
            "Model loaded successfully from tuned_random_forest_model.pkl.\n",
            "\n",
            "Evaluate the tuned model on the validation set\n",
            "Classification Evaluation Metrics:\n",
            "Accuracy: 0.9387\n",
            "Precision: 0.9230\n",
            "Recall: 0.9387\n",
            "F1 Score: 0.9228\n",
            "Confusion Matrix:\n",
            "[[27814   230]\n",
            " [ 1608   348]]\n"
          ]
        }
      ],
      "source": [
        "loaded_best_rf_model = load_model(\"tuned_random_forest_model.pkl\")\n",
        "\n",
        "print(\"\\nEvaluate the tuned model on the validation set\")\n",
        "val_metrics_best_rf = evaluate_model(loaded_best_rf_model, X_val, y_val)"
      ]
    },
    {
      "cell_type": "markdown",
      "metadata": {
        "id": "Ggv9DRVE-Yj-"
      },
      "source": [
        "#### **Gradient Boost**"
      ]
    },
    {
      "cell_type": "code",
      "execution_count": 34,
      "metadata": {
        "colab": {
          "base_uri": "https://localhost:8080/"
        },
        "id": "B9vQGz3g-dwN",
        "outputId": "3badf15c-af71-4d06-eaf8-9d8f40365f96"
      },
      "outputs": [
        {
          "output_type": "stream",
          "name": "stdout",
          "text": [
            "Model saved successfully to gradient_boosting_model.pkl.\n"
          ]
        }
      ],
      "source": [
        "from sklearn.ensemble import GradientBoostingClassifier\n",
        "\n",
        "# Initialize the Gradient Boosting Regressor\n",
        "gbr_model = GradientBoostingClassifier(random_state=42, n_estimators=100)\n",
        "\n",
        "# Train the model\n",
        "gbr_model.fit(X_train, y_train)\n",
        "\n",
        "# Save the trained model\n",
        "save_model(gbr_model, \"gradient_boosting_model.pkl\")\n"
      ]
    },
    {
      "cell_type": "code",
      "execution_count": 35,
      "metadata": {
        "colab": {
          "base_uri": "https://localhost:8080/"
        },
        "id": "Oufg3BPr-irX",
        "outputId": "a72e8a73-6615-4d92-89ec-7d8b77cd0b66"
      },
      "outputs": [
        {
          "output_type": "stream",
          "name": "stdout",
          "text": [
            "Model loaded successfully from gradient_boosting_model.pkl.\n",
            "\n",
            "Evaluate the model on the validation set\n",
            "Classification Evaluation Metrics:\n",
            "Accuracy: 0.9389\n",
            "Precision: 0.9237\n",
            "Recall: 0.9389\n",
            "F1 Score: 0.9246\n",
            "Confusion Matrix:\n",
            "[[27772   272]\n",
            " [ 1560   396]]\n"
          ]
        }
      ],
      "source": [
        "# Load the saved model\n",
        "loaded_gbr_model = load_model(\"gradient_boosting_model.pkl\")\n",
        "\n",
        "print(\"\\nEvaluate the model on the validation set\")\n",
        "val_metrics_gbr = evaluate_model(loaded_gbr_model, X_val, y_val)\n"
      ]
    },
    {
      "cell_type": "markdown",
      "metadata": {
        "id": "0eRc0FLlAxp4"
      },
      "source": [
        "#### **Hyperparameter Tuning for Gradient Boosting Classifier**"
      ]
    },
    {
      "cell_type": "code",
      "execution_count": 36,
      "metadata": {
        "id": "xvTsjr_WA1fY",
        "colab": {
          "base_uri": "https://localhost:8080/"
        },
        "outputId": "f4b51c7c-7bb1-4dcb-d977-2244c6b38cd0"
      },
      "outputs": [
        {
          "output_type": "stream",
          "name": "stdout",
          "text": [
            "Fitting 3 folds for each of 4 candidates, totalling 12 fits\n",
            "Best Parameters for Gradient Boosting: {'learning_rate': 0.01, 'max_depth': 10, 'n_estimators': 100, 'subsample': 1.0}\n",
            "Best Negative MSE (Gradient Boosting): -0.06616666666666667\n"
          ]
        }
      ],
      "source": [
        "from sklearn.model_selection import GridSearchCV\n",
        "\n",
        "# Define parameter grid for Gradient Boosting\n",
        "param_grid_gbr = {\n",
        "    'n_estimators': [50, 100],\n",
        "    'max_depth': [10],\n",
        "    'learning_rate': [0.01, 0.1],\n",
        "    'subsample': [1.0]\n",
        "}\n",
        "\n",
        "# Initialize GridSearchCV for Gradient Boosting\n",
        "grid_search_gbr = GridSearchCV(\n",
        "    estimator=GradientBoostingClassifier(random_state=42),\n",
        "    param_grid=param_grid_gbr,\n",
        "    cv=3,\n",
        "    scoring='neg_mean_squared_error',\n",
        "    n_jobs=-1,\n",
        "    verbose=2\n",
        ")\n",
        "\n",
        "# Perform the grid search\n",
        "grid_search_gbr.fit(X_train, y_train)\n",
        "\n",
        "# Best parameters and score\n",
        "print(\"Best Parameters for Gradient Boosting:\", grid_search_gbr.best_params_)\n",
        "print(\"Best Negative MSE (Gradient Boosting):\", grid_search_gbr.best_score_)"
      ]
    },
    {
      "cell_type": "code",
      "execution_count": 37,
      "metadata": {
        "id": "GdQsUdCNA8z7",
        "colab": {
          "base_uri": "https://localhost:8080/"
        },
        "outputId": "18b11254-ecf9-4f11-ea46-bf12460cf4ea"
      },
      "outputs": [
        {
          "output_type": "stream",
          "name": "stdout",
          "text": [
            "Model saved successfully to tuned_gradient_boosting_model.pkl.\n",
            "\n",
            "Evaluate the model on the validation set\n",
            "Classification Evaluation Metrics:\n",
            "Accuracy: 0.9361\n",
            "Precision: 0.9165\n",
            "Recall: 0.9361\n",
            "F1 Score: 0.9106\n",
            "Confusion Matrix:\n",
            "[[27972    72]\n",
            " [ 1845   111]]\n"
          ]
        }
      ],
      "source": [
        "# Evaluate the tuned Gradient Boosting model\n",
        "best_gbr_model = grid_search_gbr.best_estimator_\n",
        "\n",
        "save_model(best_gbr_model, \"tuned_gradient_boosting_model.pkl\")\n",
        "\n",
        "print(\"\\nEvaluate the model on the validation set\")\n",
        "val_metrics_best_gbr = evaluate_model(best_gbr_model, X_val, y_val)\n"
      ]
    },
    {
      "cell_type": "markdown",
      "metadata": {
        "id": "gXT8WgIkCzWy"
      },
      "source": [
        "#### **Feature Importance**"
      ]
    },
    {
      "cell_type": "code",
      "execution_count": 40,
      "metadata": {
        "id": "bFhef7OSC8-3",
        "colab": {
          "base_uri": "https://localhost:8080/",
          "height": 452
        },
        "outputId": "cb7d1f07-eb15-4e87-aee0-5c0d1f1d6fe1"
      },
      "outputs": [
        {
          "output_type": "display_data",
          "data": {
            "text/plain": [
              "<Figure size 800x600 with 1 Axes>"
            ],
            "image/png": "[encoded data removed]"
          },
          "metadata": {}
        }
      ],
      "source": [
        "# Feature Importance for Random Forest\n",
        "rf_importances = best_rf_model.feature_importances_\n",
        "# Feature names (as you provided)\n",
        "features = [\n",
        "    'RevolvingUtilizationOfUnsecuredLines', 'age',\n",
        "    'NumberOfTime30-59DaysPastDueNotWorse', 'DebtRatio', 'MonthlyIncome',\n",
        "    'NumberOfOpenCreditLinesAndLoans', 'NumberOfTimes90DaysLate',\n",
        "    'NumberRealEstateLoansOrLines', 'NumberOfTime60-89DaysPastDueNotWorse',\n",
        "    'NumberOfDependents'\n",
        "]\n",
        "\n",
        "# Assuming X_train is a NumPy array after scaling, convert it to a DataFrame\n",
        "X_train_df = pd.DataFrame(X_train, columns=features)\n",
        "\n",
        "# Feature Importance for Random Forest\n",
        "rf_importances = best_rf_model.feature_importances_\n",
        "features = X_train_df.columns\n",
        "\n",
        "# Plot feature importances\n",
        "plt.figure(figsize=(8, 6))\n",
        "plt.barh(features, rf_importances, color='skyblue')\n",
        "plt.title(\"Feature Importance for Random Forest\")\n",
        "plt.xlabel(\"Importance\")\n",
        "plt.ylabel(\"Features\")\n",
        "plt.show()\n"
      ]
    },
    {
      "cell_type": "code",
      "execution_count": 41,
      "metadata": {
        "id": "o4Ie5D6KDCyv",
        "colab": {
          "base_uri": "https://localhost:8080/",
          "height": 452
        },
        "outputId": "4443fa34-d709-45a4-8886-456e7445ac1d"
      },
      "outputs": [
        {
          "output_type": "display_data",
          "data": {
            "text/plain": [
              "<Figure size 800x600 with 1 Axes>"
            ],
            "image/png": "[encoded data removed]"
          },
          "metadata": {}
        }
      ],
      "source": [
        "# Feature Importance for Gradient Boosting\n",
        "gbr_importances = best_gbr_model.feature_importances_\n",
        "\n",
        "# Plot feature importances\n",
        "plt.figure(figsize=(8, 6))\n",
        "plt.barh(features, gbr_importances, color='orange')\n",
        "plt.title(\"Feature Importance for Gradient Boosting\")\n",
        "plt.xlabel(\"Importance\")\n",
        "plt.ylabel(\"Features\")\n",
        "plt.show()\n"
      ]
    },
    {
      "cell_type": "markdown",
      "metadata": {
        "id": "0tnqmnecHUyp"
      },
      "source": [
        "#Explainability"
      ]
    },
    {
      "cell_type": "code",
      "execution_count": 42,
      "metadata": {
        "id": "ILbnxvPiJq9e",
        "colab": {
          "base_uri": "https://localhost:8080/"
        },
        "outputId": "8b181d28-7afc-4421-c3d3-37e2f7e99ff8"
      },
      "outputs": [
        {
          "output_type": "stream",
          "name": "stdout",
          "text": [
            "Requirement already satisfied: lime in /usr/local/lib/python3.11/dist-packages (0.2.0.1)\n",
            "Requirement already satisfied: matplotlib in /usr/local/lib/python3.11/dist-packages (from lime) (3.10.0)\n",
            "Requirement already satisfied: numpy in /usr/local/lib/python3.11/dist-packages (from lime) (1.26.4)\n",
            "Requirement already satisfied: scipy in /usr/local/lib/python3.11/dist-packages (from lime) (1.13.1)\n",
            "Requirement already satisfied: tqdm in /usr/local/lib/python3.11/dist-packages (from lime) (4.67.1)\n",
            "Requirement already satisfied: scikit-learn>=0.18 in /usr/local/lib/python3.11/dist-packages (from lime) (1.6.1)\n",
            "Requirement already satisfied: scikit-image>=0.12 in /usr/local/lib/python3.11/dist-packages (from lime) (0.25.2)\n",
            "Requirement already satisfied: networkx>=3.0 in /usr/local/lib/python3.11/dist-packages (from scikit-image>=0.12->lime) (3.4.2)\n",
            "Requirement already satisfied: pillow>=10.1 in /usr/local/lib/python3.11/dist-packages (from scikit-image>=0.12->lime) (11.1.0)\n",
            "Requirement already satisfied: imageio!=2.35.0,>=2.33 in /usr/local/lib/python3.11/dist-packages (from scikit-image>=0.12->lime) (2.37.0)\n",
            "Requirement already satisfied: tifffile>=2022.8.12 in /usr/local/lib/python3.11/dist-packages (from scikit-image>=0.12->lime) (2025.2.18)\n",
            "Requirement already satisfied: packaging>=21 in /usr/local/lib/python3.11/dist-packages (from scikit-image>=0.12->lime) (24.2)\n",
            "Requirement already satisfied: lazy-loader>=0.4 in /usr/local/lib/python3.11/dist-packages (from scikit-image>=0.12->lime) (0.4)\n",
            "Requirement already satisfied: joblib>=1.2.0 in /usr/local/lib/python3.11/dist-packages (from scikit-learn>=0.18->lime) (1.4.2)\n",
            "Requirement already satisfied: threadpoolctl>=3.1.0 in /usr/local/lib/python3.11/dist-packages (from scikit-learn>=0.18->lime) (3.5.0)\n",
            "Requirement already satisfied: contourpy>=1.0.1 in /usr/local/lib/python3.11/dist-packages (from matplotlib->lime) (1.3.1)\n",
            "Requirement already satisfied: cycler>=0.10 in /usr/local/lib/python3.11/dist-packages (from matplotlib->lime) (0.12.1)\n",
            "Requirement already satisfied: fonttools>=4.22.0 in /usr/local/lib/python3.11/dist-packages (from matplotlib->lime) (4.56.0)\n",
            "Requirement already satisfied: kiwisolver>=1.3.1 in /usr/local/lib/python3.11/dist-packages (from matplotlib->lime) (1.4.8)\n",
            "Requirement already satisfied: pyparsing>=2.3.1 in /usr/local/lib/python3.11/dist-packages (from matplotlib->lime) (3.2.1)\n",
            "Requirement already satisfied: python-dateutil>=2.7 in /usr/local/lib/python3.11/dist-packages (from matplotlib->lime) (2.8.2)\n",
            "Requirement already satisfied: six>=1.5 in /usr/local/lib/python3.11/dist-packages (from python-dateutil>=2.7->matplotlib->lime) (1.17.0)\n"
          ]
        }
      ],
      "source": [
        "!pip install lime"
      ]
    },
    {
      "cell_type": "code",
      "source": [
        "features = [\n",
        "    'RevolvingUtilizationOfUnsecuredLines', 'age',\n",
        "    'NumberOfTime30-59DaysPastDueNotWorse', 'DebtRatio', 'MonthlyIncome',\n",
        "    'NumberOfOpenCreditLinesAndLoans', 'NumberOfTimes90DaysLate',\n",
        "    'NumberRealEstateLoansOrLines', 'NumberOfTime60-89DaysPastDueNotWorse',\n",
        "    'NumberOfDependents'\n",
        "]\n",
        "\n",
        "# Assuming X_train is a NumPy array after scaling, convert it to a DataFrame\n",
        "X_train_df = pd.DataFrame(X_train, columns=features)\n"
      ],
      "metadata": {
        "id": "oyVDCqNbiHDc"
      },
      "execution_count": 48,
      "outputs": []
    },
    {
      "cell_type": "code",
      "source": [
        "features = ['Unnamed',\n",
        "    'RevolvingUtilizationOfUnsecuredLines', 'age',\n",
        "    'NumberOfTime30-59DaysPastDueNotWorse', 'DebtRatio', 'MonthlyIncome',\n",
        "    'NumberOfOpenCreditLinesAndLoans', 'NumberOfTimes90DaysLate',\n",
        "    'NumberRealEstateLoansOrLines', 'NumberOfTime60-89DaysPastDueNotWorse',\n",
        "    'NumberOfDependents'\n",
        "]\n",
        "\n",
        "# Assuming X_train is a NumPy array after scaling, convert it to a DataFrame\n",
        "X_test_df = pd.DataFrame(X_test, columns=features)\n"
      ],
      "metadata": {
        "id": "hYFEEWHNia7P"
      },
      "execution_count": 54,
      "outputs": []
    },
    {
      "cell_type": "code",
      "source": [
        "X_test_df = X_test_df.drop('Unnamed', axis=1)"
      ],
      "metadata": {
        "id": "1f3HoBhplANm"
      },
      "execution_count": 57,
      "outputs": []
    },
    {
      "cell_type": "code",
      "execution_count": null,
      "metadata": {
        "id": "xbw0irQv4cIi",
        "colab": {
          "base_uri": "https://localhost:8080/"
        },
        "outputId": "39eb4e16-5662-42e6-f3be-ab586eb8fd2f"
      },
      "outputs": [
        {
          "output_type": "stream",
          "name": "stderr",
          "text": [
            "  0%|                   | 757/203006 [02:59<797:03]       "
          ]
        }
      ],
      "source": [
        "import numpy as np\n",
        "import pandas as pd\n",
        "import shap\n",
        "import lime\n",
        "import lime.lime_tabular\n",
        "from sklearn.ensemble import RandomForestClassifier, GradientBoostingClassifier\n",
        "from sklearn.linear_model import LogisticRegression\n",
        "from sklearn.model_selection import train_test_split\n",
        "from sklearn.preprocessing import StandardScaler\n",
        "\n",
        "# ========================= SHAP (Global Feature Importance) =========================\n",
        "explainer_log_reg = shap.Explainer(loaded_log_regression_model, X_train_df[:100])\n",
        "shap_values_log_reg = explainer_log_reg(X_test_df[:100])\n",
        "\n",
        "explainer_rf = shap.Explainer(loaded_rf_model, X_train_df[:100])\n",
        "shap_values_rf = explainer_rf(X_test_df[:100])\n",
        "\n",
        "explainer_gb = shap.Explainer(loaded_gbr_model, X_train_df[:100])\n",
        "shap_values_gb = explainer_gb(X_test_df[:100])\n",
        "\n",
        "# SHAP Summary Plots\n",
        "print(\"SHAP Feature Importance for Logistic Regression:\")\n",
        "shap.summary_plot(shap_values_log_reg, X_test, feature_names=X.columns)\n",
        "\n",
        "print(\"SHAP Feature Importance for Random Forest:\")\n",
        "shap.summary_plot(shap_values_rf, X_test, feature_names=X.columns)\n",
        "\n",
        "print(\"SHAP Feature Importance for Gradient Boosting:\")\n",
        "shap.summary_plot(shap_values_gb, X_test, feature_names=X.columns)\n"
      ]
    },
    {
      "cell_type": "code",
      "execution_count": null,
      "metadata": {
        "id": "CcfXFSyjJOWn"
      },
      "outputs": [],
      "source": [
        "import numpy as np\n",
        "import lime\n",
        "import lime.lime_tabular\n",
        "\n",
        "# ========================= LIME (Local Explanation) =========================\n",
        "lime_explainer = lime.lime_tabular.LimeTabularExplainer(\n",
        "    X_train.values,\n",
        "    feature_names=X.columns,\n",
        "    class_names=['Class 0', 'Class 1'],\n",
        "    discretize_continuous=True\n",
        ")\n",
        "\n",
        "# Pick a random test instance\n",
        "i = np.random.randint(0, len(X_test))\n",
        "X_sample = X_test.iloc[i].values.reshape(1, -1)\n",
        "\n",
        "# ================= LIME for Logistic Regression =================\n",
        "lime_exp_log_reg = lime_explainer.explain_instance(\n",
        "    X_sample[0], loaded_log_regression_model.predict_proba\n",
        ")\n",
        "print(\"LIME Explanation for Logistic Regression:\")\n",
        "lime_exp_log_reg.show_in_notebook()\n",
        "\n",
        "# ================= LIME for Random Forest =================\n",
        "lime_exp_rf = lime_explainer.explain_instance(\n",
        "    X_sample[0], loaded_rf_model.predict_proba\n",
        ")\n",
        "print(\"LIME Explanation for Random Forest:\")\n",
        "lime_exp_rf.show_in_notebook()\n",
        "\n",
        "# ================= LIME for Gradient Boosting =================\n",
        "lime_exp_gb = lime_explainer.explain_instance(\n",
        "    X_sample[0], loaded_gbr_model.predict_proba\n",
        ")\n",
        "print(\"LIME Explanation for Gradient Boosting:\")\n",
        "lime_exp_gb.show_in_notebook()\n"
      ]
    }
  ],
  "metadata": {
    "accelerator": "GPU",
    "colab": {
      "gpuType": "T4",
      "provenance": [],
      "collapsed_sections": [
        "KV-ryuQMr6rU",
        "hW0kcYJm2CSs"
      ],
      "include_colab_link": true
    },
    "kernelspec": {
      "display_name": "Python 3",
      "name": "python3"
    },
    "language_info": {
      "name": "python"
    }
  },
  "nbformat": 4,
  "nbformat_minor": 0
}